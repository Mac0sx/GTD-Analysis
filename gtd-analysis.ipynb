{
 "cells": [
  {
   "cell_type": "code",
   "execution_count": 2,
   "metadata": {
    "collapsed": true
   },
   "outputs": [],
   "source": [
    "%matplotlib inline\n",
    "import pandas as pd\n",
    "import matplotlib\n",
    "import numpy as np\n",
    "import matplotlib.pyplot as plt\n",
    "matplotlib.style.use('ggplot')"
   ]
  },
  {
   "cell_type": "code",
   "execution_count": 3,
   "metadata": {
    "collapsed": false
   },
   "outputs": [
    {
     "name": "stderr",
     "output_type": "stream",
     "text": [
      "C:\\Users\\Keshav\\Anaconda\\lib\\site-packages\\IPython\\core\\interactiveshell.py:2902: DtypeWarning: Columns (4,6,13,31,33,53,61,62,63,75,78,91,93,95,113,114,120) have mixed types. Specify dtype option on import or set low_memory=False.\n",
      "  interactivity=interactivity, compiler=compiler, result=result)\n"
     ]
    }
   ],
   "source": [
    "df_gtd = pd.read_csv('gtd_0615dist/globalterrorismdb_0615dist.csv')"
   ]
  },
  {
   "cell_type": "code",
   "execution_count": 4,
   "metadata": {
    "collapsed": false
   },
   "outputs": [
    {
     "data": {
      "text/plain": [
       "141966"
      ]
     },
     "execution_count": 4,
     "metadata": {},
     "output_type": "execute_result"
    }
   ],
   "source": [
    "len(df_gtd)"
   ]
  },
  {
   "cell_type": "code",
   "execution_count": 5,
   "metadata": {
    "collapsed": false
   },
   "outputs": [
    {
     "data": {
      "text/plain": [
       "Index([u'eventid', u'iyear', u'imonth', u'iday', u'approxdate', u'extended',\n",
       "       u'resolution', u'country', u'country_txt', u'region',\n",
       "       ...\n",
       "       u'addnotes', u'scite1', u'scite2', u'scite3', u'dbsource', u'INT_LOG',\n",
       "       u'INT_IDEO', u'INT_MISC', u'INT_ANY', u'related'],\n",
       "      dtype='object', length=134)"
      ]
     },
     "execution_count": 5,
     "metadata": {},
     "output_type": "execute_result"
    }
   ],
   "source": [
    "df_gtd.columns"
   ]
  },
  {
   "cell_type": "code",
   "execution_count": 6,
   "metadata": {
    "collapsed": false
   },
   "outputs": [
    {
     "data": {
      "text/plain": [
       "134"
      ]
     },
     "execution_count": 6,
     "metadata": {},
     "output_type": "execute_result"
    }
   ],
   "source": [
    "len(df_gtd.columns)"
   ]
  },
  {
   "cell_type": "code",
   "execution_count": 7,
   "metadata": {
    "collapsed": false
   },
   "outputs": [
    {
     "data": {
      "text/html": [
       "<div>\n",
       "<table border=\"1\" class=\"dataframe\">\n",
       "  <thead>\n",
       "    <tr style=\"text-align: right;\">\n",
       "      <th></th>\n",
       "      <th>eventid</th>\n",
       "      <th>iyear</th>\n",
       "      <th>imonth</th>\n",
       "      <th>iday</th>\n",
       "      <th>approxdate</th>\n",
       "      <th>extended</th>\n",
       "      <th>resolution</th>\n",
       "      <th>country</th>\n",
       "      <th>country_txt</th>\n",
       "      <th>region</th>\n",
       "      <th>...</th>\n",
       "      <th>addnotes</th>\n",
       "      <th>scite1</th>\n",
       "      <th>scite2</th>\n",
       "      <th>scite3</th>\n",
       "      <th>dbsource</th>\n",
       "      <th>INT_LOG</th>\n",
       "      <th>INT_IDEO</th>\n",
       "      <th>INT_MISC</th>\n",
       "      <th>INT_ANY</th>\n",
       "      <th>related</th>\n",
       "    </tr>\n",
       "  </thead>\n",
       "  <tbody>\n",
       "    <tr>\n",
       "      <th>0</th>\n",
       "      <td>197000000001</td>\n",
       "      <td>1970</td>\n",
       "      <td>0</td>\n",
       "      <td>0</td>\n",
       "      <td>NaN</td>\n",
       "      <td>0</td>\n",
       "      <td>NaN</td>\n",
       "      <td>58</td>\n",
       "      <td>Dominican Republic</td>\n",
       "      <td>2</td>\n",
       "      <td>...</td>\n",
       "      <td>NaN</td>\n",
       "      <td>NaN</td>\n",
       "      <td>NaN</td>\n",
       "      <td>NaN</td>\n",
       "      <td>PGIS</td>\n",
       "      <td>0</td>\n",
       "      <td>0</td>\n",
       "      <td>0</td>\n",
       "      <td>0</td>\n",
       "      <td>NaN</td>\n",
       "    </tr>\n",
       "    <tr>\n",
       "      <th>1</th>\n",
       "      <td>197000000002</td>\n",
       "      <td>1970</td>\n",
       "      <td>0</td>\n",
       "      <td>0</td>\n",
       "      <td>NaN</td>\n",
       "      <td>0</td>\n",
       "      <td>NaN</td>\n",
       "      <td>130</td>\n",
       "      <td>Mexico</td>\n",
       "      <td>1</td>\n",
       "      <td>...</td>\n",
       "      <td>NaN</td>\n",
       "      <td>NaN</td>\n",
       "      <td>NaN</td>\n",
       "      <td>NaN</td>\n",
       "      <td>PGIS</td>\n",
       "      <td>0</td>\n",
       "      <td>1</td>\n",
       "      <td>1</td>\n",
       "      <td>1</td>\n",
       "      <td>NaN</td>\n",
       "    </tr>\n",
       "    <tr>\n",
       "      <th>2</th>\n",
       "      <td>197001000001</td>\n",
       "      <td>1970</td>\n",
       "      <td>1</td>\n",
       "      <td>0</td>\n",
       "      <td>NaN</td>\n",
       "      <td>0</td>\n",
       "      <td>NaN</td>\n",
       "      <td>160</td>\n",
       "      <td>Philippines</td>\n",
       "      <td>5</td>\n",
       "      <td>...</td>\n",
       "      <td>NaN</td>\n",
       "      <td>NaN</td>\n",
       "      <td>NaN</td>\n",
       "      <td>NaN</td>\n",
       "      <td>PGIS</td>\n",
       "      <td>-9</td>\n",
       "      <td>-9</td>\n",
       "      <td>1</td>\n",
       "      <td>1</td>\n",
       "      <td>NaN</td>\n",
       "    </tr>\n",
       "    <tr>\n",
       "      <th>3</th>\n",
       "      <td>197001000002</td>\n",
       "      <td>1970</td>\n",
       "      <td>1</td>\n",
       "      <td>0</td>\n",
       "      <td>NaN</td>\n",
       "      <td>0</td>\n",
       "      <td>NaN</td>\n",
       "      <td>78</td>\n",
       "      <td>Greece</td>\n",
       "      <td>8</td>\n",
       "      <td>...</td>\n",
       "      <td>NaN</td>\n",
       "      <td>NaN</td>\n",
       "      <td>NaN</td>\n",
       "      <td>NaN</td>\n",
       "      <td>PGIS</td>\n",
       "      <td>-9</td>\n",
       "      <td>-9</td>\n",
       "      <td>1</td>\n",
       "      <td>1</td>\n",
       "      <td>NaN</td>\n",
       "    </tr>\n",
       "    <tr>\n",
       "      <th>4</th>\n",
       "      <td>197001000003</td>\n",
       "      <td>1970</td>\n",
       "      <td>1</td>\n",
       "      <td>0</td>\n",
       "      <td>NaN</td>\n",
       "      <td>0</td>\n",
       "      <td>NaN</td>\n",
       "      <td>101</td>\n",
       "      <td>Japan</td>\n",
       "      <td>4</td>\n",
       "      <td>...</td>\n",
       "      <td>NaN</td>\n",
       "      <td>NaN</td>\n",
       "      <td>NaN</td>\n",
       "      <td>NaN</td>\n",
       "      <td>PGIS</td>\n",
       "      <td>-9</td>\n",
       "      <td>-9</td>\n",
       "      <td>1</td>\n",
       "      <td>1</td>\n",
       "      <td>NaN</td>\n",
       "    </tr>\n",
       "  </tbody>\n",
       "</table>\n",
       "<p>5 rows × 134 columns</p>\n",
       "</div>"
      ],
      "text/plain": [
       "        eventid  iyear  imonth  iday approxdate  extended resolution  country  \\\n",
       "0  197000000001   1970       0     0        NaN         0        NaN       58   \n",
       "1  197000000002   1970       0     0        NaN         0        NaN      130   \n",
       "2  197001000001   1970       1     0        NaN         0        NaN      160   \n",
       "3  197001000002   1970       1     0        NaN         0        NaN       78   \n",
       "4  197001000003   1970       1     0        NaN         0        NaN      101   \n",
       "\n",
       "          country_txt  region   ...    addnotes scite1 scite2 scite3  \\\n",
       "0  Dominican Republic       2   ...         NaN    NaN    NaN    NaN   \n",
       "1              Mexico       1   ...         NaN    NaN    NaN    NaN   \n",
       "2         Philippines       5   ...         NaN    NaN    NaN    NaN   \n",
       "3              Greece       8   ...         NaN    NaN    NaN    NaN   \n",
       "4               Japan       4   ...         NaN    NaN    NaN    NaN   \n",
       "\n",
       "   dbsource  INT_LOG  INT_IDEO INT_MISC INT_ANY  related  \n",
       "0      PGIS        0         0        0       0      NaN  \n",
       "1      PGIS        0         1        1       1      NaN  \n",
       "2      PGIS       -9        -9        1       1      NaN  \n",
       "3      PGIS       -9        -9        1       1      NaN  \n",
       "4      PGIS       -9        -9        1       1      NaN  \n",
       "\n",
       "[5 rows x 134 columns]"
      ]
     },
     "execution_count": 7,
     "metadata": {},
     "output_type": "execute_result"
    }
   ],
   "source": [
    "df_gtd.head()"
   ]
  },
  {
   "cell_type": "code",
   "execution_count": 8,
   "metadata": {
    "collapsed": false
   },
   "outputs": [
    {
     "data": {
      "text/plain": [
       "object     59\n",
       "float64    52\n",
       "int64      23\n",
       "dtype: int64"
      ]
     },
     "execution_count": 8,
     "metadata": {},
     "output_type": "execute_result"
    }
   ],
   "source": [
    "df_gtd.dtypes.value_counts()"
   ]
  },
  {
   "cell_type": "code",
   "execution_count": 9,
   "metadata": {
    "collapsed": true
   },
   "outputs": [],
   "source": [
    "#Remove Event ID\n",
    "df_gtd = df_gtd.drop('eventid', 1)"
   ]
  },
  {
   "cell_type": "code",
   "execution_count": 10,
   "metadata": {
    "collapsed": false
   },
   "outputs": [
    {
     "name": "stdout",
     "output_type": "stream",
     "text": [
      "0.0202513277827\n"
     ]
    }
   ],
   "source": [
    "#Remove Approxdate\n",
    "print sum(df_gtd.approxdate.notnull()) / float(len(df_gtd)) \n",
    "df_gtd = df_gtd.drop('approxdate', 1)"
   ]
  },
  {
   "cell_type": "code",
   "execution_count": 11,
   "metadata": {
    "collapsed": false
   },
   "outputs": [
    {
     "name": "stdout",
     "output_type": "stream",
     "text": [
      "0.0155671076173\n"
     ]
    }
   ],
   "source": [
    "#Remove Resolution\n",
    "print sum(df_gtd.resolution.notnull()) / float(len(df_gtd)) \n",
    "df_gtd = df_gtd.drop('resolution', 1)"
   ]
  },
  {
   "cell_type": "code",
   "execution_count": 12,
   "metadata": {
    "collapsed": false
   },
   "outputs": [
    {
     "name": "stdout",
     "output_type": "stream",
     "text": [
      "0.038466956877\n"
     ]
    }
   ],
   "source": [
    "#Remove Extended\n",
    "print sum(df_gtd.extended) / float(len(df_gtd))\n",
    "df_gtd = df_gtd.drop('extended', 1)"
   ]
  },
  {
   "cell_type": "code",
   "execution_count": 13,
   "metadata": {
    "collapsed": true
   },
   "outputs": [],
   "source": [
    "group_crit12 = lambda df: 1 if df.crit1 == 1 and df.crit2 == 1 else 0\n",
    "df_gtd['crit1andcrit2'] = df_gtd.apply(group_crit12,axis=1)"
   ]
  },
  {
   "cell_type": "code",
   "execution_count": 14,
   "metadata": {
    "collapsed": false
   },
   "outputs": [],
   "source": [
    "group_crit23 = lambda df: 1 if df.crit2 == 1 and df.crit3 == 1 else 0\n",
    "df_gtd['crit2andcrit3'] = df_gtd.apply(group_crit23,axis=1)"
   ]
  },
  {
   "cell_type": "code",
   "execution_count": 15,
   "metadata": {
    "collapsed": false
   },
   "outputs": [],
   "source": [
    "group_crit13 = lambda df: 1 if df.crit1 == 1 and df.crit3 == 1 else 0\n",
    "df_gtd['crit1andcrit3'] = df_gtd.apply(group_crit13,axis=1)"
   ]
  },
  {
   "cell_type": "code",
   "execution_count": 16,
   "metadata": {
    "collapsed": true
   },
   "outputs": [],
   "source": [
    "group_crit123 = lambda df: 1 if df.crit1 == 1 and df.crit2 == 1 and df.crit3 == 1 else 0\n",
    "df_gtd['crit1andcrit2crit3'] = df_gtd.apply(group_crit123,axis=1)"
   ]
  },
  {
   "cell_type": "code",
   "execution_count": 17,
   "metadata": {
    "collapsed": false
   },
   "outputs": [],
   "source": [
    "df_gtd = df_gtd.drop('crit1',1)\n",
    "df_gtd = df_gtd.drop('crit2',1)\n",
    "df_gtd = df_gtd.drop('crit3',1)"
   ]
  },
  {
   "cell_type": "code",
   "execution_count": 18,
   "metadata": {
    "collapsed": false
   },
   "outputs": [
    {
     "data": {
      "text/plain": [
       "Index([u'iyear', u'imonth', u'iday', u'country', u'country_txt', u'region',\n",
       "       u'region_txt', u'provstate', u'city', u'latitude',\n",
       "       ...\n",
       "       u'dbsource', u'INT_LOG', u'INT_IDEO', u'INT_MISC', u'INT_ANY',\n",
       "       u'related', u'crit1andcrit2', u'crit2andcrit3', u'crit1andcrit3',\n",
       "       u'crit1andcrit2crit3'],\n",
       "      dtype='object', length=131)"
      ]
     },
     "execution_count": 18,
     "metadata": {},
     "output_type": "execute_result"
    }
   ],
   "source": [
    "df_gtd.columns"
   ]
  },
  {
   "cell_type": "code",
   "execution_count": 19,
   "metadata": {
    "collapsed": false
   },
   "outputs": [],
   "source": [
    "group_doubterr_alternative = lambda df: 0 if df.doubtterr == 0 else -9 if df.doubtterr == -9 else df.alternative"
   ]
  },
  {
   "cell_type": "code",
   "execution_count": 20,
   "metadata": {
    "collapsed": true
   },
   "outputs": [],
   "source": [
    "df_gtd['doubtterr_alternative'] = df_gtd.apply(group_doubterr_alternative,axis=1)"
   ]
  },
  {
   "cell_type": "code",
   "execution_count": 21,
   "metadata": {
    "collapsed": false
   },
   "outputs": [
    {
     "data": {
      "text/plain": [
       " 0    106653\n",
       " 1     16985\n",
       "-9     13796\n",
       " 2      3281\n",
       " 3      1047\n",
       " 4       105\n",
       " 5        99\n",
       "Name: doubtterr_alternative, dtype: int64"
      ]
     },
     "execution_count": 21,
     "metadata": {},
     "output_type": "execute_result"
    }
   ],
   "source": [
    "df_gtd.doubtterr_alternative.value_counts()"
   ]
  },
  {
   "cell_type": "code",
   "execution_count": 22,
   "metadata": {
    "collapsed": false
   },
   "outputs": [],
   "source": [
    "df_gtd = df_gtd.drop('doubtterr',1)\n",
    "df_gtd = df_gtd.drop('alternative',1)"
   ]
  },
  {
   "cell_type": "code",
   "execution_count": 23,
   "metadata": {
    "collapsed": false
   },
   "outputs": [
    {
     "data": {
      "text/plain": [
       "Index([u'iyear', u'imonth', u'iday', u'country', u'country_txt', u'region',\n",
       "       u'region_txt', u'provstate', u'city', u'latitude',\n",
       "       ...\n",
       "       u'INT_LOG', u'INT_IDEO', u'INT_MISC', u'INT_ANY', u'related',\n",
       "       u'crit1andcrit2', u'crit2andcrit3', u'crit1andcrit3',\n",
       "       u'crit1andcrit2crit3', u'doubtterr_alternative'],\n",
       "      dtype='object', length=130)"
      ]
     },
     "execution_count": 23,
     "metadata": {},
     "output_type": "execute_result"
    }
   ],
   "source": [
    "df_gtd.columns"
   ]
  },
  {
   "cell_type": "code",
   "execution_count": 24,
   "metadata": {
    "collapsed": false
   },
   "outputs": [
    {
     "data": {
      "text/html": [
       "<div>\n",
       "<table border=\"1\" class=\"dataframe\">\n",
       "  <thead>\n",
       "    <tr style=\"text-align: right;\">\n",
       "      <th></th>\n",
       "      <th>country</th>\n",
       "      <th>country_txt</th>\n",
       "    </tr>\n",
       "  </thead>\n",
       "  <tbody>\n",
       "    <tr>\n",
       "      <th>0</th>\n",
       "      <td>58</td>\n",
       "      <td>Dominican Republic</td>\n",
       "    </tr>\n",
       "    <tr>\n",
       "      <th>1</th>\n",
       "      <td>130</td>\n",
       "      <td>Mexico</td>\n",
       "    </tr>\n",
       "    <tr>\n",
       "      <th>2</th>\n",
       "      <td>160</td>\n",
       "      <td>Philippines</td>\n",
       "    </tr>\n",
       "    <tr>\n",
       "      <th>3</th>\n",
       "      <td>78</td>\n",
       "      <td>Greece</td>\n",
       "    </tr>\n",
       "    <tr>\n",
       "      <th>4</th>\n",
       "      <td>101</td>\n",
       "      <td>Japan</td>\n",
       "    </tr>\n",
       "  </tbody>\n",
       "</table>\n",
       "</div>"
      ],
      "text/plain": [
       "   country         country_txt\n",
       "0       58  Dominican Republic\n",
       "1      130              Mexico\n",
       "2      160         Philippines\n",
       "3       78              Greece\n",
       "4      101               Japan"
      ]
     },
     "execution_count": 24,
     "metadata": {},
     "output_type": "execute_result"
    }
   ],
   "source": [
    "df_gtd[df_gtd.columns[3:5]].head()"
   ]
  },
  {
   "cell_type": "code",
   "execution_count": 25,
   "metadata": {
    "collapsed": true
   },
   "outputs": [],
   "source": [
    "#Remove Country Text\n",
    "df_gtd = df_gtd.drop('country_txt',1)"
   ]
  },
  {
   "cell_type": "code",
   "execution_count": 26,
   "metadata": {
    "collapsed": false
   },
   "outputs": [],
   "source": [
    "df_gtd[df_gtd.columns[4:6]]\n",
    "#Remove Region Text\n",
    "df_gtd = df_gtd.drop('region_txt',1)"
   ]
  },
  {
   "cell_type": "code",
   "execution_count": 27,
   "metadata": {
    "collapsed": false
   },
   "outputs": [],
   "source": [
    "df_gtd = df_gtd.drop('alternative_txt',1)"
   ]
  },
  {
   "cell_type": "code",
   "execution_count": 28,
   "metadata": {
    "collapsed": true
   },
   "outputs": [],
   "source": [
    "df_gtd = df_gtd.drop('attacktype1_txt',1)\n",
    "df_gtd = df_gtd.drop('attacktype2',1)\n",
    "df_gtd = df_gtd.drop('attacktype2_txt',1)\n",
    "df_gtd = df_gtd.drop('attacktype3_txt',1)\n",
    "df_gtd = df_gtd.drop('attacktype3',1)"
   ]
  },
  {
   "cell_type": "code",
   "execution_count": 29,
   "metadata": {
    "collapsed": true
   },
   "outputs": [],
   "source": [
    "df_gtd = df_gtd.drop('targtype1_txt',1)\n",
    "df_gtd = df_gtd.drop('targsubtype1_txt',1)\n",
    "df_gtd = df_gtd.drop('natlty1_txt',1)\n",
    "df_gtd = df_gtd.drop('targtype2_txt',1)\n",
    "df_gtd = df_gtd.drop('targsubtype2_txt',1)\n",
    "df_gtd = df_gtd.drop('natlty2_txt',1)\n",
    "df_gtd = df_gtd.drop('targtype3_txt',1)\n",
    "df_gtd = df_gtd.drop('targsubtype3_txt',1)\n",
    "df_gtd = df_gtd.drop('natlty3_txt',1)"
   ]
  },
  {
   "cell_type": "code",
   "execution_count": 30,
   "metadata": {
    "collapsed": true
   },
   "outputs": [],
   "source": [
    "df_gtd = df_gtd.drop('weaptype1_txt',1)\n",
    "df_gtd = df_gtd.drop('weapsubtype1_txt',1)\n",
    "df_gtd = df_gtd.drop('weaptype2_txt',1)\n",
    "df_gtd = df_gtd.drop('weapsubtype2_txt',1)\n",
    "df_gtd = df_gtd.drop('weaptype3_txt',1)\n",
    "df_gtd = df_gtd.drop('weapsubtype3_txt',1)\n",
    "df_gtd = df_gtd.drop('weaptype4_txt',1)\n",
    "df_gtd = df_gtd.drop('weapsubtype4_txt',1)"
   ]
  },
  {
   "cell_type": "code",
   "execution_count": 31,
   "metadata": {
    "collapsed": false
   },
   "outputs": [],
   "source": [
    "df_gtd = df_gtd.drop('propextent_txt',1)\n",
    "df_gtd = df_gtd.drop('hostkidoutcome_txt',1)"
   ]
  },
  {
   "cell_type": "code",
   "execution_count": 32,
   "metadata": {
    "collapsed": false
   },
   "outputs": [],
   "source": [
    "#[(col, sum(df_gtd[col].notnull())/float(len(df_gtd)) * 100) for col in df_gtd.columns]\n",
    "for col in df_gtd.columns:\n",
    "    rate = sum(df_gtd[col].notnull())/float(len(df_gtd)) * 100\n",
    "    if rate < 1:\n",
    "        df_gtd = df_gtd.drop(col,1)"
   ]
  },
  {
   "cell_type": "code",
   "execution_count": 33,
   "metadata": {
    "collapsed": true
   },
   "outputs": [],
   "source": [
    "df_gtd = df_gtd.drop('claimmode_txt',1)"
   ]
  },
  {
   "cell_type": "code",
   "execution_count": 34,
   "metadata": {
    "collapsed": false
   },
   "outputs": [
    {
     "data": {
      "text/plain": [
       "Index([u'iyear', u'imonth', u'iday', u'country', u'region', u'provstate',\n",
       "       u'city', u'latitude', u'longitude', u'specificity', u'vicinity',\n",
       "       u'location', u'summary', u'multiple', u'success', u'suicide',\n",
       "       u'attacktype1', u'targtype1', u'targsubtype1', u'corp1', u'target1',\n",
       "       u'natlty1', u'targtype2', u'targsubtype2', u'corp2', u'target2',\n",
       "       u'natlty2', u'gname', u'gsubname', u'motive', u'guncertain1', u'nperps',\n",
       "       u'nperpcap', u'claimed', u'claimmode', u'compclaim', u'weaptype1',\n",
       "       u'weapsubtype1', u'weaptype2', u'weapsubtype2', u'weaptype3',\n",
       "       u'weaptype4', u'weapdetail', u'nkill', u'nkillus', u'nkillter',\n",
       "       u'nwound', u'nwoundus', u'nwoundte', u'property', u'propextent',\n",
       "       u'propvalue', u'propcomment', u'ishostkid', u'nhostkid', u'nhostkidus',\n",
       "       u'nhours', u'ndays', u'kidhijcountry', u'ransom', u'hostkidoutcome',\n",
       "       u'nreleased', u'addnotes', u'scite1', u'scite2', u'scite3', u'dbsource',\n",
       "       u'INT_LOG', u'INT_IDEO', u'INT_MISC', u'INT_ANY', u'related',\n",
       "       u'crit1andcrit2', u'crit2andcrit3', u'crit1andcrit3',\n",
       "       u'crit1andcrit2crit3', u'doubtterr_alternative'],\n",
       "      dtype='object')"
      ]
     },
     "execution_count": 34,
     "metadata": {},
     "output_type": "execute_result"
    }
   ],
   "source": [
    "df_gtd.columns"
   ]
  },
  {
   "cell_type": "code",
   "execution_count": 36,
   "metadata": {
    "collapsed": false
   },
   "outputs": [
    {
     "data": {
      "text/plain": [
       "77"
      ]
     },
     "execution_count": 36,
     "metadata": {},
     "output_type": "execute_result"
    }
   ],
   "source": [
    "len(df_gtd.columns)"
   ]
  },
  {
   "cell_type": "code",
   "execution_count": 37,
   "metadata": {
    "collapsed": false
   },
   "outputs": [],
   "source": [
    "df_gtd = df_gtd.drop('dbsource',1)\n",
    "df_gtd = df_gtd.drop('INT_LOG',1)\n",
    "df_gtd = df_gtd.drop('INT_IDEO',1)\n",
    "df_gtd = df_gtd.drop('INT_MISC',1)\n",
    "df_gtd = df_gtd.drop('INT_ANY',1)"
   ]
  },
  {
   "cell_type": "code",
   "execution_count": 38,
   "metadata": {
    "collapsed": false
   },
   "outputs": [],
   "source": [
    "df_gtd = df_gtd.drop('weapdetail',1)"
   ]
  },
  {
   "cell_type": "code",
   "execution_count": 39,
   "metadata": {
    "collapsed": false
   },
   "outputs": [],
   "source": [
    "df_gtd = df_gtd.drop('corp1',1)"
   ]
  },
  {
   "cell_type": "code",
   "execution_count": 40,
   "metadata": {
    "collapsed": false
   },
   "outputs": [],
   "source": [
    "#remove location and latitude too\n",
    "df_gtd = df_gtd.drop('latitude',1)\n",
    "df_gtd = df_gtd.drop('location',1)\n",
    "df_gtd = df_gtd.drop('longitude',1)\n",
    "df_gtd = df_gtd.drop('provstate',1)\n",
    "df_gtd = df_gtd.drop('city',1)"
   ]
  },
  {
   "cell_type": "code",
   "execution_count": 41,
   "metadata": {
    "collapsed": false
   },
   "outputs": [],
   "source": [
    "df_gtd = df_gtd.drop('target1',1)"
   ]
  },
  {
   "cell_type": "code",
   "execution_count": 42,
   "metadata": {
    "collapsed": false
   },
   "outputs": [],
   "source": [
    "df_gtd = df_gtd.drop('specificity',1)"
   ]
  },
  {
   "cell_type": "code",
   "execution_count": 43,
   "metadata": {
    "collapsed": false
   },
   "outputs": [],
   "source": [
    "for col in df_gtd.columns:\n",
    "    rate = sum(df_gtd[col].notnull())/float(len(df_gtd)) * 100\n",
    "    if rate <= 20:\n",
    "        df_gtd = df_gtd.drop(col,1)"
   ]
  },
  {
   "cell_type": "code",
   "execution_count": 46,
   "metadata": {
    "collapsed": false
   },
   "outputs": [],
   "source": [
    "df_gtd = df_gtd.drop('propcomment',1)\n",
    "df_gtd = df_gtd.drop('propextent',1)\n",
    "df_gtd = df_gtd.drop('nwoundte',1)\n",
    "df_gtd = df_gtd.drop('nwoundus',1)\n",
    "df_gtd = df_gtd.drop('nkillus',1)\n",
    "df_gtd = df_gtd.drop('nkillter',1)\n",
    "df_gtd = df_gtd.drop('scite1',1)\n",
    "df_gtd = df_gtd.drop('scite2',1)\n",
    "df_gtd = df_gtd.drop('scite3',1)\n",
    "df_gtd = df_gtd.drop('motive',1)\n",
    "df_gtd = df_gtd.drop('summary',1)"
   ]
  },
  {
   "cell_type": "code",
   "execution_count": 47,
   "metadata": {
    "collapsed": false
   },
   "outputs": [
    {
     "data": {
      "text/plain": [
       "30"
      ]
     },
     "execution_count": 47,
     "metadata": {},
     "output_type": "execute_result"
    }
   ],
   "source": [
    "len(df_gtd.columns)"
   ]
  },
  {
   "cell_type": "code",
   "execution_count": 48,
   "metadata": {
    "collapsed": false
   },
   "outputs": [],
   "source": [
    "import pandas as pd\n",
    "import numpy as np\n",
    "\n",
    "from sklearn.base import TransformerMixin\n",
    "\n",
    "class DataFrameImputer(TransformerMixin):\n",
    "\n",
    "    def __init__(self):\n",
    "        \"\"\"Impute missing values.\n",
    "\n",
    "        Columns of dtype object are imputed with the most frequent value \n",
    "        in column.\n",
    "\n",
    "        Columns of other types are imputed with mean of column.\n",
    "\n",
    "        \"\"\"\n",
    "    def fit(self, X, y=None):\n",
    "\n",
    "        self.fill = pd.Series([X[c].value_counts().index[0]\n",
    "            if X[c].dtype == np.dtype('O') else X[c].median() for c in X],\n",
    "            index=X.columns)\n",
    "\n",
    "        return self\n",
    "\n",
    "    def transform(self, X, y=None):\n",
    "        return X.fillna(self.fill)\n"
   ]
  },
  {
   "cell_type": "code",
   "execution_count": 50,
   "metadata": {
    "collapsed": false
   },
   "outputs": [],
   "source": [
    "#Pickle df_gtd\n",
    "df_gtd.to_pickle('df_gtd.pkl')"
   ]
  },
  {
   "cell_type": "code",
   "execution_count": 51,
   "metadata": {
    "collapsed": false
   },
   "outputs": [],
   "source": [
    "df_gtd_imp = DataFrameImputer().fit_transform(df_gtd)"
   ]
  },
  {
   "cell_type": "code",
   "execution_count": 52,
   "metadata": {
    "collapsed": false
   },
   "outputs": [],
   "source": [
    "df_test = df_gtd_imp.query(\"gname == 'Unknown'\")"
   ]
  },
  {
   "cell_type": "code",
   "execution_count": 53,
   "metadata": {
    "collapsed": false
   },
   "outputs": [],
   "source": [
    "df_test = df_test.drop('gname',1)"
   ]
  },
  {
   "cell_type": "code",
   "execution_count": 54,
   "metadata": {
    "collapsed": false
   },
   "outputs": [],
   "source": [
    "df_train = df_gtd_imp.query(\"gname != 'Unknown'\")\n",
    "df_train_x = pd.DataFrame(df_train)\n",
    "df_train_x = df_train_x.drop('gname',1)"
   ]
  },
  {
   "cell_type": "code",
   "execution_count": 55,
   "metadata": {
    "collapsed": false
   },
   "outputs": [],
   "source": [
    "df_train_y = df_train.gname"
   ]
  },
  {
   "cell_type": "code",
   "execution_count": 56,
   "metadata": {
    "collapsed": false
   },
   "outputs": [
    {
     "data": {
      "text/plain": [
       "(76304, 29)"
      ]
     },
     "execution_count": 56,
     "metadata": {},
     "output_type": "execute_result"
    }
   ],
   "source": [
    "df_train_x.shape"
   ]
  },
  {
   "cell_type": "code",
   "execution_count": 57,
   "metadata": {
    "collapsed": false
   },
   "outputs": [
    {
     "data": {
      "text/plain": [
       "(76304L,)"
      ]
     },
     "execution_count": 57,
     "metadata": {},
     "output_type": "execute_result"
    }
   ],
   "source": [
    "df_train_y.shape"
   ]
  },
  {
   "cell_type": "code",
   "execution_count": 58,
   "metadata": {
    "collapsed": false
   },
   "outputs": [
    {
     "data": {
      "text/plain": [
       "(65662, 29)"
      ]
     },
     "execution_count": 58,
     "metadata": {},
     "output_type": "execute_result"
    }
   ],
   "source": [
    "df_test.shape"
   ]
  },
  {
   "cell_type": "code",
   "execution_count": 59,
   "metadata": {
    "collapsed": false
   },
   "outputs": [
    {
     "name": "stdout",
     "output_type": "stream",
     "text": [
      "Installed autotime.py. To use it, type:\n",
      "  %load_ext autotime\n"
     ]
    },
    {
     "name": "stderr",
     "output_type": "stream",
     "text": [
      "C:\\Users\\Keshav\\Anaconda\\lib\\site-packages\\IPython\\core\\magics\\extension.py:47: UserWarning: %install_ext` is deprecated, please distribute your extension(s)as a python packages.\n",
      "  \"as a python packages.\", UserWarning)\n"
     ]
    }
   ],
   "source": [
    "%install_ext https://raw.github.com/cpcloud/ipython-autotime/master/autotime.py\n",
    "%load_ext autotime"
   ]
  },
  {
   "cell_type": "code",
   "execution_count": 60,
   "metadata": {
    "collapsed": false
   },
   "outputs": [
    {
     "name": "stdout",
     "output_type": "stream",
     "text": [
      "time: 46.3 s\n"
     ]
    }
   ],
   "source": [
    "from sklearn.tree import DecisionTreeClassifier\n",
    "clf = DecisionTreeClassifier()\n",
    "clf = clf.fit(df_train_x, df_train_y)"
   ]
  },
  {
   "cell_type": "code",
   "execution_count": 61,
   "metadata": {
    "collapsed": false
   },
   "outputs": [
    {
     "name": "stdout",
     "output_type": "stream",
     "text": [
      "time: 43.9 s\n"
     ]
    }
   ],
   "source": [
    "from sklearn.ensemble import RandomForestClassifier\n",
    "clf1 = RandomForestClassifier(n_estimators=10)\n",
    "clf1 = clf.fit(df_train_x, df_train_y)"
   ]
  },
  {
   "cell_type": "code",
   "execution_count": 62,
   "metadata": {
    "collapsed": false
   },
   "outputs": [
    {
     "name": "stdout",
     "output_type": "stream",
     "text": [
      "('iyear', 0.18236676983594544)\n",
      "('imonth', 0.064771941692499641)\n",
      "('iday', 0.071856063747591167)\n",
      "('country', 0.320743264282284)\n",
      "('region', 0.049847680252021222)\n",
      "('vicinity', 0.0041767590727185598)\n",
      "('multiple', 0.011691019316710311)\n",
      "('success', 0.0048441582310846795)\n",
      "('suicide', 0.00086612829107892634)\n",
      "('attacktype1', 0.018419417466829072)\n",
      "('targtype1', 0.023429196288781567)\n",
      "('targsubtype1', 0.052540739787049366)\n",
      "('natlty1', 0.020399626833751305)\n",
      "('guncertain1', 0.010628067601790787)\n",
      "('nperps', 0.017313299700745945)\n",
      "('nperpcap', 0.0046669788233821069)\n",
      "('claimed', 0.0082194313961922796)\n",
      "('weaptype1', 0.011767088223628574)\n",
      "('weapsubtype1', 0.02960560017793706)\n",
      "('nkill', 0.026422418219188542)\n",
      "('nwound', 0.019485360137038363)\n",
      "('property', 0.011846444440112095)\n",
      "('ishostkid', 0.0038473711557769474)\n",
      "('ransom', 0.0026409279568702462)\n",
      "('crit1andcrit2', 0.0013425630419278507)\n",
      "('crit2andcrit3', 0.0021122868558849659)\n",
      "('crit1andcrit3', 0.0024149532935143752)\n",
      "('crit1andcrit2crit3', 0.0021931913480422961)\n",
      "('doubtterr_alternative', 0.019541252529622237)\n",
      "time: 39 ms\n"
     ]
    }
   ],
   "source": [
    "for index_feature, feature_rank in enumerate(list(clf.feature_importances_)):\n",
    "        print (df_train_x.columns[index_feature], feature_rank)"
   ]
  },
  {
   "cell_type": "code",
   "execution_count": 63,
   "metadata": {
    "collapsed": false
   },
   "outputs": [
    {
     "data": {
      "text/plain": [
       "29"
      ]
     },
     "execution_count": 63,
     "metadata": {},
     "output_type": "execute_result"
    },
    {
     "name": "stdout",
     "output_type": "stream",
     "text": [
      "time: 8 ms\n"
     ]
    }
   ],
   "source": [
    "len(df_train_x.columns)"
   ]
  },
  {
   "cell_type": "code",
   "execution_count": 64,
   "metadata": {
    "collapsed": false
   },
   "outputs": [
    {
     "name": "stdout",
     "output_type": "stream",
     "text": [
      "time: 17 ms\n"
     ]
    }
   ],
   "source": [
    "perc_val = np.percentile(clf.feature_importances_,50)"
   ]
  },
  {
   "cell_type": "code",
   "execution_count": 65,
   "metadata": {
    "collapsed": false
   },
   "outputs": [
    {
     "name": "stdout",
     "output_type": "stream",
     "text": [
      "('iyear', 0.18236676983594544)\n",
      "('imonth', 0.064771941692499641)\n",
      "('iday', 0.071856063747591167)\n",
      "('country', 0.320743264282284)\n",
      "('region', 0.049847680252021222)\n",
      "('attacktype1', 0.018419417466829072)\n",
      "('targtype1', 0.023429196288781567)\n",
      "('targsubtype1', 0.052540739787049366)\n",
      "('natlty1', 0.020399626833751305)\n",
      "('nperps', 0.017313299700745945)\n",
      "('weapsubtype1', 0.02960560017793706)\n",
      "('nkill', 0.026422418219188542)\n",
      "('nwound', 0.019485360137038363)\n",
      "('property', 0.011846444440112095)\n",
      "('doubtterr_alternative', 0.019541252529622237)\n",
      "time: 17 ms\n"
     ]
    }
   ],
   "source": [
    "index_relevant_features = list()\n",
    "for index_feature, feature_rank in enumerate(list(clf.feature_importances_)):\n",
    "        if feature_rank >= perc_val:\n",
    "            print (df_train_x.columns[index_feature], feature_rank)\n",
    "            index_relevant_features.append(index_feature)"
   ]
  },
  {
   "cell_type": "code",
   "execution_count": 66,
   "metadata": {
    "collapsed": false
   },
   "outputs": [
    {
     "name": "stdout",
     "output_type": "stream",
     "text": [
      "time: 148 ms\n"
     ]
    }
   ],
   "source": [
    "df_train_x = pd.DataFrame(df_train_x[df_train_x.columns[index_relevant_features]])"
   ]
  },
  {
   "cell_type": "code",
   "execution_count": 67,
   "metadata": {
    "collapsed": false
   },
   "outputs": [
    {
     "data": {
      "text/plain": [
       "Index([u'iyear', u'imonth', u'iday', u'country', u'region', u'attacktype1',\n",
       "       u'targtype1', u'targsubtype1', u'natlty1', u'nperps', u'weapsubtype1',\n",
       "       u'nkill', u'nwound', u'property', u'doubtterr_alternative'],\n",
       "      dtype='object')"
      ]
     },
     "execution_count": 67,
     "metadata": {},
     "output_type": "execute_result"
    },
    {
     "name": "stdout",
     "output_type": "stream",
     "text": [
      "time: 33 ms\n"
     ]
    }
   ],
   "source": [
    "df_train_x.columns"
   ]
  },
  {
   "cell_type": "code",
   "execution_count": 68,
   "metadata": {
    "collapsed": false
   },
   "outputs": [
    {
     "data": {
      "text/plain": [
       "(76304, 15)"
      ]
     },
     "execution_count": 68,
     "metadata": {},
     "output_type": "execute_result"
    },
    {
     "name": "stdout",
     "output_type": "stream",
     "text": [
      "time: 9 ms\n"
     ]
    }
   ],
   "source": [
    "df_train_x.shape"
   ]
  },
  {
   "cell_type": "code",
   "execution_count": 69,
   "metadata": {
    "collapsed": false
   },
   "outputs": [
    {
     "data": {
      "text/plain": [
       "(76304L,)"
      ]
     },
     "execution_count": 69,
     "metadata": {},
     "output_type": "execute_result"
    },
    {
     "name": "stdout",
     "output_type": "stream",
     "text": [
      "time: 9 ms\n"
     ]
    }
   ],
   "source": [
    "df_train_y.shape"
   ]
  },
  {
   "cell_type": "code",
   "execution_count": 70,
   "metadata": {
    "collapsed": false
   },
   "outputs": [
    {
     "name": "stdout",
     "output_type": "stream",
     "text": [
      "time: 92 ms\n"
     ]
    }
   ],
   "source": [
    "df_test = df_test[df_test.columns[index_relevant_features]]"
   ]
  },
  {
   "cell_type": "code",
   "execution_count": 71,
   "metadata": {
    "collapsed": false
   },
   "outputs": [
    {
     "data": {
      "text/plain": [
       "(65662, 15)"
      ]
     },
     "execution_count": 71,
     "metadata": {},
     "output_type": "execute_result"
    },
    {
     "name": "stdout",
     "output_type": "stream",
     "text": [
      "time: 8 ms\n"
     ]
    }
   ],
   "source": [
    "df_test.shape"
   ]
  },
  {
   "cell_type": "code",
   "execution_count": 72,
   "metadata": {
    "collapsed": false
   },
   "outputs": [
    {
     "name": "stdout",
     "output_type": "stream",
     "text": [
      "time: 32.1 s\n"
     ]
    }
   ],
   "source": [
    "from sklearn.tree import DecisionTreeClassifier\n",
    "clf = DecisionTreeClassifier()\n",
    "clf = clf.fit(df_train_x, df_train_y)"
   ]
  },
  {
   "cell_type": "code",
   "execution_count": 73,
   "metadata": {
    "collapsed": false
   },
   "outputs": [
    {
     "name": "stdout",
     "output_type": "stream",
     "text": [
      "time: 29.3 s\n"
     ]
    }
   ],
   "source": [
    "from sklearn.ensemble import RandomForestClassifier\n",
    "clf1 = RandomForestClassifier(n_estimators=10)\n",
    "clf1 = clf.fit(df_train_x, df_train_y)"
   ]
  },
  {
   "cell_type": "code",
   "execution_count": 74,
   "metadata": {
    "collapsed": false
   },
   "outputs": [
    {
     "data": {
      "text/plain": [
       "array([ 0.18783469,  0.07284545,  0.08116465,  0.3079187 ,  0.06362919,\n",
       "        0.02504241,  0.02735219,  0.06197348,  0.02188104,  0.0196428 ,\n",
       "        0.03944922,  0.02978456,  0.0232386 ,  0.01420177,  0.02404127])"
      ]
     },
     "execution_count": 74,
     "metadata": {},
     "output_type": "execute_result"
    },
    {
     "name": "stdout",
     "output_type": "stream",
     "text": [
      "time: 104 ms\n"
     ]
    }
   ],
   "source": [
    "clf.feature_importances_"
   ]
  },
  {
   "cell_type": "code",
   "execution_count": 75,
   "metadata": {
    "collapsed": false
   },
   "outputs": [
    {
     "data": {
      "text/plain": [
       "0.99802107360033554"
      ]
     },
     "execution_count": 75,
     "metadata": {},
     "output_type": "execute_result"
    },
    {
     "name": "stdout",
     "output_type": "stream",
     "text": [
      "time: 6.64 s\n"
     ]
    }
   ],
   "source": [
    "clf.score(df_train_x,df_train_y)"
   ]
  },
  {
   "cell_type": "code",
   "execution_count": 76,
   "metadata": {
    "collapsed": false
   },
   "outputs": [
    {
     "name": "stdout",
     "output_type": "stream",
     "text": [
      "time: 9 ms\n"
     ]
    }
   ],
   "source": [
    "from sklearn.tree import DecisionTreeClassifier\n",
    "clf = DecisionTreeClassifier()"
   ]
  },
  {
   "cell_type": "code",
   "execution_count": 78,
   "metadata": {
    "collapsed": false
   },
   "outputs": [
    {
     "name": "stdout",
     "output_type": "stream",
     "text": [
      "(45782, 15) (45782L,)\n",
      "(30522, 15) (30522L,)\n",
      "0.665323373305\n",
      "time: 19 s\n"
     ]
    }
   ],
   "source": [
    "from sklearn import cross_validation\n",
    "X_train, X_test, y_train, y_test = cross_validation.train_test_split(df_train_x, df_train_y, test_size=0.4, random_state=0)\n",
    "print X_train.shape, y_train.shape\n",
    "print X_test.shape, y_test.shape\n",
    "clf = clf.fit(X_train, y_train)\n",
    "print clf.score(X_test, y_test)"
   ]
  },
  {
   "cell_type": "code",
   "execution_count": 79,
   "metadata": {
    "collapsed": false
   },
   "outputs": [
    {
     "name": "stdout",
     "output_type": "stream",
     "text": [
      "time: 8min 11s\n"
     ]
    },
    {
     "name": "stderr",
     "output_type": "stream",
     "text": [
      "C:\\Users\\Keshav\\Anaconda\\lib\\site-packages\\sklearn\\cross_validation.py:516: Warning: The least populated class in y has only 1 members, which is too few. The minimum number of labels for any class cannot be less than n_folds=10.\n",
      "  % (min_labels, self.n_folds)), Warning)\n"
     ]
    }
   ],
   "source": [
    "from sklearn import cross_validation\n",
    "clf = DecisionTreeClassifier()\n",
    "scores = cross_validation.cross_val_score(clf, df_train_x,df_train_y, cv=10)"
   ]
  },
  {
   "cell_type": "code",
   "execution_count": 80,
   "metadata": {
    "collapsed": false
   },
   "outputs": [
    {
     "data": {
      "text/plain": [
       "array([ 0.16494639,  0.48581008,  0.51624411,  0.4614469 ,  0.51408069,\n",
       "        0.52765487,  0.57634016,  0.54858934,  0.51001874,  0.37683904])"
      ]
     },
     "execution_count": 80,
     "metadata": {},
     "output_type": "execute_result"
    },
    {
     "name": "stdout",
     "output_type": "stream",
     "text": [
      "time: 33 ms\n"
     ]
    }
   ],
   "source": [
    "scores"
   ]
  },
  {
   "cell_type": "code",
   "execution_count": 81,
   "metadata": {
    "collapsed": false
   },
   "outputs": [
    {
     "name": "stdout",
     "output_type": "stream",
     "text": [
      "(45782, 15) (45782L,)\n",
      "(30522, 15) (30522L,)\n",
      "0.697890046524\n",
      "time: 2min 10s\n"
     ]
    }
   ],
   "source": [
    "from sklearn.ensemble import RandomForestClassifier\n",
    "clf1 = RandomForestClassifier(n_estimators=10)\n",
    "X_train, X_test, y_train, y_test = cross_validation.train_test_split(df_train_x, df_train_y, test_size=0.4, random_state=0)\n",
    "print X_train.shape, y_train.shape\n",
    "print X_test.shape, y_test.shape\n",
    "clf1 = clf1.fit(X_train, y_train)\n",
    "print clf1.score(X_test, y_test)"
   ]
  },
  {
   "cell_type": "code",
   "execution_count": 83,
   "metadata": {
    "collapsed": false
   },
   "outputs": [
    {
     "name": "stdout",
     "output_type": "stream",
     "text": [
      "time: 871 ms\n"
     ]
    }
   ],
   "source": [
    "df_gtd_imp.to_pickle('df_gtd_imp.pkl')"
   ]
  },
  {
   "cell_type": "code",
   "execution_count": 84,
   "metadata": {
    "collapsed": false
   },
   "outputs": [
    {
     "name": "stdout",
     "output_type": "stream",
     "text": [
      "time: 1.16 s\n"
     ]
    }
   ],
   "source": [
    "df_test.to_pickle('df_test.pkl')\n",
    "df_train.to_pickle('df_train.pkl')\n",
    "df_train_x.to_pickle('df_train_x.pkl')\n",
    "df_train_y.to_pickle('df_train_y.pkl')"
   ]
  },
  {
   "cell_type": "code",
   "execution_count": 85,
   "metadata": {
    "collapsed": false
   },
   "outputs": [
    {
     "name": "stdout",
     "output_type": "stream",
     "text": [
      "[ 0.30594248  0.59094719  0.6203338   0.63801085  0.65651232  0.67104535\n",
      "  0.68874544  0.6831006   0.67233674  0.52643846]\n",
      "time: 25min 56s\n"
     ]
    }
   ],
   "source": [
    "from sklearn import cross_validation\n",
    "clf1 = RandomForestClassifier(n_estimators=10)\n",
    "scores = cross_validation.cross_val_score(clf1, df_train_x,df_train_y, cv=10)\n",
    "print scores"
   ]
  },
  {
   "cell_type": "code",
   "execution_count": 89,
   "metadata": {
    "collapsed": false
   },
   "outputs": [
    {
     "data": {
      "text/plain": [
       "0.60534132299829246"
      ]
     },
     "execution_count": 89,
     "metadata": {},
     "output_type": "execute_result"
    },
    {
     "name": "stdout",
     "output_type": "stream",
     "text": [
      "time: 9 ms\n"
     ]
    }
   ],
   "source": [
    "scores.mean()"
   ]
  },
  {
   "cell_type": "code",
   "execution_count": null,
   "metadata": {
    "collapsed": true
   },
   "outputs": [],
   "source": []
  }
 ],
 "metadata": {
  "kernelspec": {
   "display_name": "Python 2",
   "language": "python",
   "name": "python2"
  },
  "language_info": {
   "codemirror_mode": {
    "name": "ipython",
    "version": 2
   },
   "file_extension": ".py",
   "mimetype": "text/x-python",
   "name": "python",
   "nbconvert_exporter": "python",
   "pygments_lexer": "ipython2",
   "version": "2.7.11"
  }
 },
 "nbformat": 4,
 "nbformat_minor": 0
}
