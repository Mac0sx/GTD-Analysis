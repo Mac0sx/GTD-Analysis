{
 "cells": [
  {
   "cell_type": "markdown",
   "metadata": {
    "collapsed": false
   },
   "source": [
    "## Global Terrorism Database Analysis"
   ]
  },
  {
   "cell_type": "markdown",
   "metadata": {},
   "source": [
    "Model which predicts responsible groups for terrorist attacks using historical data.\n",
    "\n",
    "The open-source database(GTD) has been maintained at : http://www.start.umd.edu/gtd/ by National Consortium for the\n",
    "Study of Terrorism And Responses of Terrorism (START). \n",
    "\n",
    "The database includes information about all the terrorist attacks from 1970 to 2014."
   ]
  },
  {
   "cell_type": "markdown",
   "metadata": {},
   "source": [
    "## Description"
   ]
  },
  {
   "cell_type": "markdown",
   "metadata": {},
   "source": [
    "The database details information about all the terrorist attacks all over the world from 1970 to 2014 including information about description of the attack, terrorist groups invloved, weapons used, attack type etc.for each terrorist attack. \n",
    "\n",
    "However certain incidents have not been attributed to any particular terrorist group. This model attempts to predict the terorist group responsible for such attacks.\n",
    "\n",
    "Information about the various features of the database has been detailed at: https://www.start.umd.edu/gtd/downloads/Codebook.pdf"
   ]
  },
  {
   "cell_type": "markdown",
   "metadata": {},
   "source": [
    "## Evaluation"
   ]
  },
  {
   "cell_type": "markdown",
   "metadata": {},
   "source": [
    "The dataset has been split into two groups - one for training and evaluating the model and the other(test dataset) - to run the model on.\n",
    "\n",
    "The training dataset has information about the terrorist group involved for the attack - the model trained on this attack will be used to generate predictions for the test dataset."
   ]
  },
  {
   "cell_type": "markdown",
   "metadata": {},
   "source": [
    "## Setup Imports and Variables"
   ]
  },
  {
   "cell_type": "code",
   "execution_count": 1,
   "metadata": {
    "collapsed": false
   },
   "outputs": [],
   "source": [
    "%matplotlib inline\n",
    "import pandas as pd\n",
    "import matplotlib\n",
    "import numpy as np\n",
    "import matplotlib.pyplot as plt\n",
    "import seaborn as sns\n",
    "sns.set(style=\"whitegrid\", color_codes=True)\n",
    "np.random.seed(sum(map(ord, \"categorical\")))\n",
    "matplotlib.style.use('ggplot')"
   ]
  },
  {
   "cell_type": "markdown",
   "metadata": {},
   "source": [
    "## Explore the Data"
   ]
  },
  {
   "cell_type": "markdown",
   "metadata": {},
   "source": [
    "<b> Read the data: <b>"
   ]
  },
  {
   "cell_type": "markdown",
   "metadata": {},
   "source": [
    "The database has been downloaded as a csv file and is loaded into a Pandas DataFrame."
   ]
  },
  {
   "cell_type": "code",
   "execution_count": 2,
   "metadata": {
    "collapsed": false
   },
   "outputs": [
    {
     "name": "stderr",
     "output_type": "stream",
     "text": [
      "C:\\Users\\Keshav\\Anaconda\\lib\\site-packages\\IPython\\core\\interactiveshell.py:2902: DtypeWarning: Columns (4,6,13,31,33,53,61,62,63,75,78,91,93,95,113,114,120) have mixed types. Specify dtype option on import or set low_memory=False.\n",
      "  interactivity=interactivity, compiler=compiler, result=result)\n"
     ]
    },
    {
     "data": {
      "text/html": [
       "<div>\n",
       "<table border=\"1\" class=\"dataframe\">\n",
       "  <thead>\n",
       "    <tr style=\"text-align: right;\">\n",
       "      <th></th>\n",
       "      <th>eventid</th>\n",
       "      <th>iyear</th>\n",
       "      <th>imonth</th>\n",
       "      <th>iday</th>\n",
       "      <th>approxdate</th>\n",
       "      <th>extended</th>\n",
       "      <th>resolution</th>\n",
       "      <th>country</th>\n",
       "      <th>country_txt</th>\n",
       "      <th>region</th>\n",
       "      <th>...</th>\n",
       "      <th>addnotes</th>\n",
       "      <th>scite1</th>\n",
       "      <th>scite2</th>\n",
       "      <th>scite3</th>\n",
       "      <th>dbsource</th>\n",
       "      <th>INT_LOG</th>\n",
       "      <th>INT_IDEO</th>\n",
       "      <th>INT_MISC</th>\n",
       "      <th>INT_ANY</th>\n",
       "      <th>related</th>\n",
       "    </tr>\n",
       "  </thead>\n",
       "  <tbody>\n",
       "    <tr>\n",
       "      <th>0</th>\n",
       "      <td>197000000001</td>\n",
       "      <td>1970</td>\n",
       "      <td>0</td>\n",
       "      <td>0</td>\n",
       "      <td>NaN</td>\n",
       "      <td>0</td>\n",
       "      <td>NaN</td>\n",
       "      <td>58</td>\n",
       "      <td>Dominican Republic</td>\n",
       "      <td>2</td>\n",
       "      <td>...</td>\n",
       "      <td>NaN</td>\n",
       "      <td>NaN</td>\n",
       "      <td>NaN</td>\n",
       "      <td>NaN</td>\n",
       "      <td>PGIS</td>\n",
       "      <td>0</td>\n",
       "      <td>0</td>\n",
       "      <td>0</td>\n",
       "      <td>0</td>\n",
       "      <td>NaN</td>\n",
       "    </tr>\n",
       "    <tr>\n",
       "      <th>1</th>\n",
       "      <td>197000000002</td>\n",
       "      <td>1970</td>\n",
       "      <td>0</td>\n",
       "      <td>0</td>\n",
       "      <td>NaN</td>\n",
       "      <td>0</td>\n",
       "      <td>NaN</td>\n",
       "      <td>130</td>\n",
       "      <td>Mexico</td>\n",
       "      <td>1</td>\n",
       "      <td>...</td>\n",
       "      <td>NaN</td>\n",
       "      <td>NaN</td>\n",
       "      <td>NaN</td>\n",
       "      <td>NaN</td>\n",
       "      <td>PGIS</td>\n",
       "      <td>0</td>\n",
       "      <td>1</td>\n",
       "      <td>1</td>\n",
       "      <td>1</td>\n",
       "      <td>NaN</td>\n",
       "    </tr>\n",
       "    <tr>\n",
       "      <th>2</th>\n",
       "      <td>197001000001</td>\n",
       "      <td>1970</td>\n",
       "      <td>1</td>\n",
       "      <td>0</td>\n",
       "      <td>NaN</td>\n",
       "      <td>0</td>\n",
       "      <td>NaN</td>\n",
       "      <td>160</td>\n",
       "      <td>Philippines</td>\n",
       "      <td>5</td>\n",
       "      <td>...</td>\n",
       "      <td>NaN</td>\n",
       "      <td>NaN</td>\n",
       "      <td>NaN</td>\n",
       "      <td>NaN</td>\n",
       "      <td>PGIS</td>\n",
       "      <td>-9</td>\n",
       "      <td>-9</td>\n",
       "      <td>1</td>\n",
       "      <td>1</td>\n",
       "      <td>NaN</td>\n",
       "    </tr>\n",
       "    <tr>\n",
       "      <th>3</th>\n",
       "      <td>197001000002</td>\n",
       "      <td>1970</td>\n",
       "      <td>1</td>\n",
       "      <td>0</td>\n",
       "      <td>NaN</td>\n",
       "      <td>0</td>\n",
       "      <td>NaN</td>\n",
       "      <td>78</td>\n",
       "      <td>Greece</td>\n",
       "      <td>8</td>\n",
       "      <td>...</td>\n",
       "      <td>NaN</td>\n",
       "      <td>NaN</td>\n",
       "      <td>NaN</td>\n",
       "      <td>NaN</td>\n",
       "      <td>PGIS</td>\n",
       "      <td>-9</td>\n",
       "      <td>-9</td>\n",
       "      <td>1</td>\n",
       "      <td>1</td>\n",
       "      <td>NaN</td>\n",
       "    </tr>\n",
       "    <tr>\n",
       "      <th>4</th>\n",
       "      <td>197001000003</td>\n",
       "      <td>1970</td>\n",
       "      <td>1</td>\n",
       "      <td>0</td>\n",
       "      <td>NaN</td>\n",
       "      <td>0</td>\n",
       "      <td>NaN</td>\n",
       "      <td>101</td>\n",
       "      <td>Japan</td>\n",
       "      <td>4</td>\n",
       "      <td>...</td>\n",
       "      <td>NaN</td>\n",
       "      <td>NaN</td>\n",
       "      <td>NaN</td>\n",
       "      <td>NaN</td>\n",
       "      <td>PGIS</td>\n",
       "      <td>-9</td>\n",
       "      <td>-9</td>\n",
       "      <td>1</td>\n",
       "      <td>1</td>\n",
       "      <td>NaN</td>\n",
       "    </tr>\n",
       "  </tbody>\n",
       "</table>\n",
       "<p>5 rows × 134 columns</p>\n",
       "</div>"
      ],
      "text/plain": [
       "        eventid  iyear  imonth  iday approxdate  extended resolution  country  \\\n",
       "0  197000000001   1970       0     0        NaN         0        NaN       58   \n",
       "1  197000000002   1970       0     0        NaN         0        NaN      130   \n",
       "2  197001000001   1970       1     0        NaN         0        NaN      160   \n",
       "3  197001000002   1970       1     0        NaN         0        NaN       78   \n",
       "4  197001000003   1970       1     0        NaN         0        NaN      101   \n",
       "\n",
       "          country_txt  region   ...    addnotes scite1 scite2 scite3  \\\n",
       "0  Dominican Republic       2   ...         NaN    NaN    NaN    NaN   \n",
       "1              Mexico       1   ...         NaN    NaN    NaN    NaN   \n",
       "2         Philippines       5   ...         NaN    NaN    NaN    NaN   \n",
       "3              Greece       8   ...         NaN    NaN    NaN    NaN   \n",
       "4               Japan       4   ...         NaN    NaN    NaN    NaN   \n",
       "\n",
       "   dbsource  INT_LOG  INT_IDEO INT_MISC INT_ANY  related  \n",
       "0      PGIS        0         0        0       0      NaN  \n",
       "1      PGIS        0         1        1       1      NaN  \n",
       "2      PGIS       -9        -9        1       1      NaN  \n",
       "3      PGIS       -9        -9        1       1      NaN  \n",
       "4      PGIS       -9        -9        1       1      NaN  \n",
       "\n",
       "[5 rows x 134 columns]"
      ]
     },
     "execution_count": 2,
     "metadata": {},
     "output_type": "execute_result"
    }
   ],
   "source": [
    "df_gtd = pd.read_csv('gtd_0615dist/globalterrorismdb_0615dist.csv')\n",
    "df_gtd.head()"
   ]
  },
  {
   "cell_type": "markdown",
   "metadata": {},
   "source": [
    "<b> Information about the DataFrame: <b>"
   ]
  },
  {
   "cell_type": "code",
   "execution_count": 3,
   "metadata": {
    "collapsed": false
   },
   "outputs": [
    {
     "data": {
      "text/plain": [
       "141966"
      ]
     },
     "execution_count": 3,
     "metadata": {},
     "output_type": "execute_result"
    }
   ],
   "source": [
    "len(df_gtd)"
   ]
  },
  {
   "cell_type": "markdown",
   "metadata": {},
   "source": [
    "There are over 141k terrorist attacks that has been recorded in this database."
   ]
  },
  {
   "cell_type": "code",
   "execution_count": 4,
   "metadata": {
    "collapsed": false
   },
   "outputs": [
    {
     "data": {
      "text/plain": [
       "134"
      ]
     },
     "execution_count": 4,
     "metadata": {},
     "output_type": "execute_result"
    }
   ],
   "source": [
    "len(df_gtd.columns)"
   ]
  },
  {
   "cell_type": "markdown",
   "metadata": {},
   "source": [
    "A total of 134 attributes for each attack has been recorded."
   ]
  },
  {
   "cell_type": "code",
   "execution_count": 5,
   "metadata": {
    "collapsed": false
   },
   "outputs": [
    {
     "name": "stdout",
     "output_type": "stream",
     "text": [
      "<class 'pandas.core.frame.DataFrame'>\n",
      "Int64Index: 141966 entries, 0 to 141965\n",
      "Columns: 134 entries, eventid to related\n",
      "dtypes: float64(52), int64(23), object(59)\n",
      "memory usage: 146.2+ MB\n"
     ]
    }
   ],
   "source": [
    "df_gtd.info()"
   ]
  },
  {
   "cell_type": "markdown",
   "metadata": {},
   "source": [
    "Many of the column datatypes are of type object (52)  which have be to changed to number representations as models usually don't work very well on string objects."
   ]
  },
  {
   "cell_type": "markdown",
   "metadata": {},
   "source": [
    "<b> Descriptive Statistics about the dataframe:"
   ]
  },
  {
   "cell_type": "code",
   "execution_count": 6,
   "metadata": {
    "collapsed": false
   },
   "outputs": [
    {
     "data": {
      "text/html": [
       "<div>\n",
       "<table border=\"1\" class=\"dataframe\">\n",
       "  <thead>\n",
       "    <tr style=\"text-align: right;\">\n",
       "      <th></th>\n",
       "      <th>eventid</th>\n",
       "      <th>iyear</th>\n",
       "      <th>imonth</th>\n",
       "      <th>iday</th>\n",
       "      <th>extended</th>\n",
       "      <th>country</th>\n",
       "      <th>region</th>\n",
       "      <th>longitude</th>\n",
       "      <th>specificity</th>\n",
       "      <th>vicinity</th>\n",
       "      <th>...</th>\n",
       "      <th>ransomamt</th>\n",
       "      <th>ransomamtus</th>\n",
       "      <th>ransompaid</th>\n",
       "      <th>ransompaidus</th>\n",
       "      <th>hostkidoutcome</th>\n",
       "      <th>nreleased</th>\n",
       "      <th>INT_LOG</th>\n",
       "      <th>INT_IDEO</th>\n",
       "      <th>INT_MISC</th>\n",
       "      <th>INT_ANY</th>\n",
       "    </tr>\n",
       "  </thead>\n",
       "  <tbody>\n",
       "    <tr>\n",
       "      <th>count</th>\n",
       "      <td>1.419660e+05</td>\n",
       "      <td>141966.000000</td>\n",
       "      <td>141966.000000</td>\n",
       "      <td>141966.000000</td>\n",
       "      <td>141966.000000</td>\n",
       "      <td>141966.000000</td>\n",
       "      <td>141966.000000</td>\n",
       "      <td>115631.000000</td>\n",
       "      <td>118632.000000</td>\n",
       "      <td>141966.000000</td>\n",
       "      <td>...</td>\n",
       "      <td>1.119000e+03</td>\n",
       "      <td>3.380000e+02</td>\n",
       "      <td>548.000000</td>\n",
       "      <td>329.000000</td>\n",
       "      <td>7347.000000</td>\n",
       "      <td>6757.000000</td>\n",
       "      <td>141966.000000</td>\n",
       "      <td>141966.000000</td>\n",
       "      <td>141966.000000</td>\n",
       "      <td>141966.000000</td>\n",
       "    </tr>\n",
       "    <tr>\n",
       "      <th>mean</th>\n",
       "      <td>1.999023e+11</td>\n",
       "      <td>1998.955982</td>\n",
       "      <td>6.503684</td>\n",
       "      <td>15.425581</td>\n",
       "      <td>0.038467</td>\n",
       "      <td>134.094973</td>\n",
       "      <td>6.829713</td>\n",
       "      <td>14.858269</td>\n",
       "      <td>1.438583</td>\n",
       "      <td>0.068685</td>\n",
       "      <td>...</td>\n",
       "      <td>3.475641e+06</td>\n",
       "      <td>6.632483e+05</td>\n",
       "      <td>488555.027482</td>\n",
       "      <td>372.914894</td>\n",
       "      <td>4.551382</td>\n",
       "      <td>-21.153914</td>\n",
       "      <td>-4.881134</td>\n",
       "      <td>-4.837848</td>\n",
       "      <td>0.097678</td>\n",
       "      <td>-4.231471</td>\n",
       "    </tr>\n",
       "    <tr>\n",
       "      <th>std</th>\n",
       "      <td>1.272072e+09</td>\n",
       "      <td>12.719985</td>\n",
       "      <td>3.383358</td>\n",
       "      <td>8.816347</td>\n",
       "      <td>0.192321</td>\n",
       "      <td>115.506200</td>\n",
       "      <td>2.996252</td>\n",
       "      <td>63.854924</td>\n",
       "      <td>1.021746</td>\n",
       "      <td>0.326257</td>\n",
       "      <td>...</td>\n",
       "      <td>3.291150e+07</td>\n",
       "      <td>7.347255e+06</td>\n",
       "      <td>2756693.467399</td>\n",
       "      <td>3765.982637</td>\n",
       "      <td>2.055365</td>\n",
       "      <td>90.021073</td>\n",
       "      <td>4.525994</td>\n",
       "      <td>4.585612</td>\n",
       "      <td>0.629478</td>\n",
       "      <td>4.693714</td>\n",
       "    </tr>\n",
       "    <tr>\n",
       "      <th>min</th>\n",
       "      <td>1.970000e+11</td>\n",
       "      <td>1970.000000</td>\n",
       "      <td>0.000000</td>\n",
       "      <td>0.000000</td>\n",
       "      <td>0.000000</td>\n",
       "      <td>4.000000</td>\n",
       "      <td>1.000000</td>\n",
       "      <td>-176.176447</td>\n",
       "      <td>1.000000</td>\n",
       "      <td>-9.000000</td>\n",
       "      <td>...</td>\n",
       "      <td>-9.900000e+01</td>\n",
       "      <td>-9.900000e+01</td>\n",
       "      <td>-99.000000</td>\n",
       "      <td>-99.000000</td>\n",
       "      <td>1.000000</td>\n",
       "      <td>-99.000000</td>\n",
       "      <td>-9.000000</td>\n",
       "      <td>-9.000000</td>\n",
       "      <td>-9.000000</td>\n",
       "      <td>-9.000000</td>\n",
       "    </tr>\n",
       "    <tr>\n",
       "      <th>25%</th>\n",
       "      <td>1.988090e+11</td>\n",
       "      <td>1988.000000</td>\n",
       "      <td>4.000000</td>\n",
       "      <td>8.000000</td>\n",
       "      <td>0.000000</td>\n",
       "      <td>69.000000</td>\n",
       "      <td>5.000000</td>\n",
       "      <td>-61.516667</td>\n",
       "      <td>1.000000</td>\n",
       "      <td>0.000000</td>\n",
       "      <td>...</td>\n",
       "      <td>0.000000e+00</td>\n",
       "      <td>0.000000e+00</td>\n",
       "      <td>-99.000000</td>\n",
       "      <td>0.000000</td>\n",
       "      <td>2.000000</td>\n",
       "      <td>-99.000000</td>\n",
       "      <td>-9.000000</td>\n",
       "      <td>-9.000000</td>\n",
       "      <td>0.000000</td>\n",
       "      <td>-9.000000</td>\n",
       "    </tr>\n",
       "    <tr>\n",
       "      <th>50%</th>\n",
       "      <td>2.000092e+11</td>\n",
       "      <td>2000.000000</td>\n",
       "      <td>7.000000</td>\n",
       "      <td>15.000000</td>\n",
       "      <td>0.000000</td>\n",
       "      <td>101.000000</td>\n",
       "      <td>6.000000</td>\n",
       "      <td>36.420664</td>\n",
       "      <td>1.000000</td>\n",
       "      <td>0.000000</td>\n",
       "      <td>...</td>\n",
       "      <td>1.500000e+04</td>\n",
       "      <td>0.000000e+00</td>\n",
       "      <td>0.000000</td>\n",
       "      <td>0.000000</td>\n",
       "      <td>4.000000</td>\n",
       "      <td>0.000000</td>\n",
       "      <td>-9.000000</td>\n",
       "      <td>-9.000000</td>\n",
       "      <td>0.000000</td>\n",
       "      <td>0.000000</td>\n",
       "    </tr>\n",
       "    <tr>\n",
       "      <th>75%</th>\n",
       "      <td>2.012032e+11</td>\n",
       "      <td>2012.000000</td>\n",
       "      <td>9.000000</td>\n",
       "      <td>23.000000</td>\n",
       "      <td>0.000000</td>\n",
       "      <td>160.000000</td>\n",
       "      <td>10.000000</td>\n",
       "      <td>65.665857</td>\n",
       "      <td>1.000000</td>\n",
       "      <td>0.000000</td>\n",
       "      <td>...</td>\n",
       "      <td>5.000000e+05</td>\n",
       "      <td>0.000000e+00</td>\n",
       "      <td>12000.000000</td>\n",
       "      <td>0.000000</td>\n",
       "      <td>7.000000</td>\n",
       "      <td>2.000000</td>\n",
       "      <td>0.000000</td>\n",
       "      <td>0.000000</td>\n",
       "      <td>0.000000</td>\n",
       "      <td>0.000000</td>\n",
       "    </tr>\n",
       "    <tr>\n",
       "      <th>max</th>\n",
       "      <td>2.015022e+11</td>\n",
       "      <td>2014.000000</td>\n",
       "      <td>12.000000</td>\n",
       "      <td>31.000000</td>\n",
       "      <td>1.000000</td>\n",
       "      <td>1004.000000</td>\n",
       "      <td>12.000000</td>\n",
       "      <td>179.366667</td>\n",
       "      <td>5.000000</td>\n",
       "      <td>1.000000</td>\n",
       "      <td>...</td>\n",
       "      <td>1.000000e+09</td>\n",
       "      <td>1.320000e+08</td>\n",
       "      <td>41000000.000000</td>\n",
       "      <td>48000.000000</td>\n",
       "      <td>7.000000</td>\n",
       "      <td>1201.000000</td>\n",
       "      <td>1.000000</td>\n",
       "      <td>1.000000</td>\n",
       "      <td>1.000000</td>\n",
       "      <td>1.000000</td>\n",
       "    </tr>\n",
       "  </tbody>\n",
       "</table>\n",
       "<p>8 rows × 75 columns</p>\n",
       "</div>"
      ],
      "text/plain": [
       "            eventid          iyear         imonth           iday  \\\n",
       "count  1.419660e+05  141966.000000  141966.000000  141966.000000   \n",
       "mean   1.999023e+11    1998.955982       6.503684      15.425581   \n",
       "std    1.272072e+09      12.719985       3.383358       8.816347   \n",
       "min    1.970000e+11    1970.000000       0.000000       0.000000   \n",
       "25%    1.988090e+11    1988.000000       4.000000       8.000000   \n",
       "50%    2.000092e+11    2000.000000       7.000000      15.000000   \n",
       "75%    2.012032e+11    2012.000000       9.000000      23.000000   \n",
       "max    2.015022e+11    2014.000000      12.000000      31.000000   \n",
       "\n",
       "            extended        country         region      longitude  \\\n",
       "count  141966.000000  141966.000000  141966.000000  115631.000000   \n",
       "mean        0.038467     134.094973       6.829713      14.858269   \n",
       "std         0.192321     115.506200       2.996252      63.854924   \n",
       "min         0.000000       4.000000       1.000000    -176.176447   \n",
       "25%         0.000000      69.000000       5.000000     -61.516667   \n",
       "50%         0.000000     101.000000       6.000000      36.420664   \n",
       "75%         0.000000     160.000000      10.000000      65.665857   \n",
       "max         1.000000    1004.000000      12.000000     179.366667   \n",
       "\n",
       "         specificity       vicinity      ...           ransomamt  \\\n",
       "count  118632.000000  141966.000000      ...        1.119000e+03   \n",
       "mean        1.438583       0.068685      ...        3.475641e+06   \n",
       "std         1.021746       0.326257      ...        3.291150e+07   \n",
       "min         1.000000      -9.000000      ...       -9.900000e+01   \n",
       "25%         1.000000       0.000000      ...        0.000000e+00   \n",
       "50%         1.000000       0.000000      ...        1.500000e+04   \n",
       "75%         1.000000       0.000000      ...        5.000000e+05   \n",
       "max         5.000000       1.000000      ...        1.000000e+09   \n",
       "\n",
       "        ransomamtus       ransompaid  ransompaidus  hostkidoutcome  \\\n",
       "count  3.380000e+02       548.000000    329.000000     7347.000000   \n",
       "mean   6.632483e+05    488555.027482    372.914894        4.551382   \n",
       "std    7.347255e+06   2756693.467399   3765.982637        2.055365   \n",
       "min   -9.900000e+01       -99.000000    -99.000000        1.000000   \n",
       "25%    0.000000e+00       -99.000000      0.000000        2.000000   \n",
       "50%    0.000000e+00         0.000000      0.000000        4.000000   \n",
       "75%    0.000000e+00     12000.000000      0.000000        7.000000   \n",
       "max    1.320000e+08  41000000.000000  48000.000000        7.000000   \n",
       "\n",
       "         nreleased        INT_LOG       INT_IDEO       INT_MISC        INT_ANY  \n",
       "count  6757.000000  141966.000000  141966.000000  141966.000000  141966.000000  \n",
       "mean    -21.153914      -4.881134      -4.837848       0.097678      -4.231471  \n",
       "std      90.021073       4.525994       4.585612       0.629478       4.693714  \n",
       "min     -99.000000      -9.000000      -9.000000      -9.000000      -9.000000  \n",
       "25%     -99.000000      -9.000000      -9.000000       0.000000      -9.000000  \n",
       "50%       0.000000      -9.000000      -9.000000       0.000000       0.000000  \n",
       "75%       2.000000       0.000000       0.000000       0.000000       0.000000  \n",
       "max    1201.000000       1.000000       1.000000       1.000000       1.000000  \n",
       "\n",
       "[8 rows x 75 columns]"
      ]
     },
     "execution_count": 6,
     "metadata": {},
     "output_type": "execute_result"
    }
   ],
   "source": [
    "df_gtd.describe()"
   ]
  },
  {
   "cell_type": "markdown",
   "metadata": {},
   "source": [
    "## Data Preprocessing"
   ]
  },
  {
   "cell_type": "markdown",
   "metadata": {
    "collapsed": true
   },
   "source": [
    "Real-life data can never be clean and optimal for machine learning. It must be preprocessed, cleaned and presented in a form suitable to train the model on. \n",
    "\n",
    "There are features which may be redundant/ noisy. Such features must be removed as they can potentially lead to <b> overfitting. </b> \n",
    "\n",
    "As per <b> Occam's Razor </b> , a model with lower complexity must always be preferred. Such models can prevent overfitting and have <b> low bias and low variance. </b>"
   ]
  },
  {
   "cell_type": "markdown",
   "metadata": {},
   "source": [
    "<b> Handling Missing Values"
   ]
  },
  {
   "cell_type": "markdown",
   "metadata": {},
   "source": [
    "Many features have too many missing information about them - More than 80% of the instances for these features are missing. \n",
    "\n",
    "These columns are dropped as the model won't require them. Imputing these features will not be effective due to the high number of missing values."
   ]
  },
  {
   "cell_type": "code",
   "execution_count": 7,
   "metadata": {
    "collapsed": false
   },
   "outputs": [],
   "source": [
    "def remove_columns_missing_values(df, min_threshold):\n",
    "    \"\"\"\n",
    "    removes the columns with missing values below a certain threshold\n",
    "    \"\"\"\n",
    "    for col in df.columns:\n",
    "        rate = sum(df[col].notnull())/float(len(df)) * 100\n",
    "        if rate <= min_threshold:\n",
    "            df = df.drop(col,1)\n",
    "    return df"
   ]
  },
  {
   "cell_type": "markdown",
   "metadata": {},
   "source": [
    "Removing features having proportion of missing values more than 80%."
   ]
  },
  {
   "cell_type": "code",
   "execution_count": 8,
   "metadata": {
    "collapsed": false
   },
   "outputs": [],
   "source": [
    "df_gtd = remove_columns_missing_values(df_gtd, 20)"
   ]
  },
  {
   "cell_type": "code",
   "execution_count": 9,
   "metadata": {
    "collapsed": false
   },
   "outputs": [
    {
     "data": {
      "text/plain": [
       "65"
      ]
     },
     "execution_count": 9,
     "metadata": {},
     "output_type": "execute_result"
    }
   ],
   "source": [
    "len(df_gtd.columns)"
   ]
  },
  {
   "cell_type": "markdown",
   "metadata": {},
   "source": [
    "69 features have been removed as they contain a high proportion of missing values."
   ]
  },
  {
   "cell_type": "markdown",
   "metadata": {},
   "source": [
    "<b> Removing Features of type Object - String Form"
   ]
  },
  {
   "cell_type": "markdown",
   "metadata": {},
   "source": [
    "Some features have text representations. Such features are redundant as they exist in categorical form too."
   ]
  },
  {
   "cell_type": "code",
   "execution_count": 10,
   "metadata": {
    "collapsed": false
   },
   "outputs": [],
   "source": [
    "columns_to_drop = df_gtd.columns[df_gtd.columns.map(lambda x: 'txt' in x)]\n",
    "df_gtd = df_gtd.drop(columns_to_drop,1)"
   ]
  },
  {
   "cell_type": "code",
   "execution_count": 11,
   "metadata": {
    "collapsed": false
   },
   "outputs": [
    {
     "data": {
      "text/plain": [
       "provstate      object\n",
       "city           object\n",
       "latitude       object\n",
       "location       object\n",
       "summary        object\n",
       "corp1          object\n",
       "target1        object\n",
       "gname          object\n",
       "motive         object\n",
       "weapdetail     object\n",
       "propcomment    object\n",
       "scite1         object\n",
       "scite2         object\n",
       "scite3         object\n",
       "dbsource       object\n",
       "dtype: object"
      ]
     },
     "execution_count": 11,
     "metadata": {},
     "output_type": "execute_result"
    }
   ],
   "source": [
    "df_gtd.dtypes[df_gtd.dtypes.map(lambda x: x == 'object')]"
   ]
  },
  {
   "cell_type": "markdown",
   "metadata": {},
   "source": [
    "Dropping other noisy/redundant 'Object' type Features."
   ]
  },
  {
   "cell_type": "code",
   "execution_count": 12,
   "metadata": {
    "collapsed": false
   },
   "outputs": [],
   "source": [
    "columns_to_drop = ['summary', 'scite1' , 'scite2' , 'scite3' , 'dbsource' , 'provstate', 'location', 'latitude', 'city', \n",
    "                   'propcomment', 'weapdetail', 'corp1', 'motive', 'target1']\n",
    "df_gtd = df_gtd.drop(columns_to_drop,1)"
   ]
  },
  {
   "cell_type": "markdown",
   "metadata": {},
   "source": [
    "These features are either redundant being already represented in categorical form or simply noisy. "
   ]
  },
  {
   "cell_type": "code",
   "execution_count": 13,
   "metadata": {
    "collapsed": false
   },
   "outputs": [
    {
     "data": {
      "text/plain": [
       "42"
      ]
     },
     "execution_count": 13,
     "metadata": {},
     "output_type": "execute_result"
    }
   ],
   "source": [
    "len(df_gtd.columns)"
   ]
  },
  {
   "cell_type": "markdown",
   "metadata": {},
   "source": [
    "<b> Removing Noisy/Redundant categorical features"
   ]
  },
  {
   "cell_type": "markdown",
   "metadata": {},
   "source": [
    "Features : INT_LOG, INT_IDEO, INT_MISC, INT_ANY are removed as they don't add much value to the data when required to predict the group involved."
   ]
  },
  {
   "cell_type": "code",
   "execution_count": 14,
   "metadata": {
    "collapsed": false
   },
   "outputs": [],
   "source": [
    "columns_to_drop = ['INT_LOG' , 'INT_MISC', 'INT_ANY', 'INT_IDEO']\n",
    "df_gtd = df_gtd.drop(columns_to_drop,1)"
   ]
  },
  {
   "cell_type": "markdown",
   "metadata": {},
   "source": [
    "Features such as Longitude and Specificity are removed as they won't be used in the model."
   ]
  },
  {
   "cell_type": "code",
   "execution_count": 15,
   "metadata": {
    "collapsed": false
   },
   "outputs": [],
   "source": [
    "columns_to_drop = ['longitude','specificity']\n",
    "df_gtd = df_gtd.drop(columns_to_drop,1)"
   ]
  },
  {
   "cell_type": "markdown",
   "metadata": {},
   "source": [
    "#### Feature: 'eventid'"
   ]
  },
  {
   "cell_type": "markdown",
   "metadata": {},
   "source": [
    "'eventid' is unique to each instance of the data and hence will not be useful while training the model on. The information in this feature has already been represented in other features."
   ]
  },
  {
   "cell_type": "code",
   "execution_count": 16,
   "metadata": {
    "collapsed": false
   },
   "outputs": [],
   "source": [
    "df_gtd = df_gtd.drop('eventid',1)"
   ]
  },
  {
   "cell_type": "markdown",
   "metadata": {},
   "source": [
    "#### Feature: 'extended'"
   ]
  },
  {
   "cell_type": "markdown",
   "metadata": {},
   "source": [
    "This binary categorical feature tells us if the attack extended over 24 hours or not."
   ]
  },
  {
   "cell_type": "code",
   "execution_count": 17,
   "metadata": {
    "collapsed": false
   },
   "outputs": [
    {
     "name": "stdout",
     "output_type": "stream",
     "text": [
      "0.038466956877\n"
     ]
    }
   ],
   "source": [
    "print sum(df_gtd.extended) / float(len(df_gtd))\n",
    "df_gtd = df_gtd.drop('extended', 1)"
   ]
  },
  {
   "cell_type": "markdown",
   "metadata": {},
   "source": [
    "Since less than 4% of the data extends over 24 hours - it has been removed."
   ]
  },
  {
   "cell_type": "markdown",
   "metadata": {},
   "source": [
    "#### Other features with very less obvious 'feature information'"
   ]
  },
  {
   "cell_type": "markdown",
   "metadata": {},
   "source": [
    "Features 'nkillus' and 'nwoundus' are also removed as they are not present for many records and they add much value. "
   ]
  },
  {
   "cell_type": "code",
   "execution_count": 18,
   "metadata": {
    "collapsed": false
   },
   "outputs": [],
   "source": [
    "df_gtd = df_gtd.drop(['nwoundus','nkillus'], 1)"
   ]
  },
  {
   "cell_type": "markdown",
   "metadata": {},
   "source": [
    "Features 'nperpcap', 'guncertain1', 'nwoundte', 'propextent', 'nkillter' are removed as they don't add much value."
   ]
  },
  {
   "cell_type": "code",
   "execution_count": 19,
   "metadata": {
    "collapsed": false
   },
   "outputs": [],
   "source": [
    "df_gtd = df_gtd.drop(['nwoundte','propextent','nkillter', 'guncertain1', 'nperpcap'], 1)"
   ]
  },
  {
   "cell_type": "markdown",
   "metadata": {},
   "source": [
    "### Feature Creation"
   ]
  },
  {
   "cell_type": "markdown",
   "metadata": {},
   "source": [
    "<b> Feaures: Inclusion Criteria ( crit1, crit2, crit3)"
   ]
  },
  {
   "cell_type": "code",
   "execution_count": 20,
   "metadata": {
    "collapsed": false
   },
   "outputs": [
    {
     "data": {
      "text/html": [
       "<div>\n",
       "<table border=\"1\" class=\"dataframe\">\n",
       "  <thead>\n",
       "    <tr style=\"text-align: right;\">\n",
       "      <th></th>\n",
       "      <th>crit1</th>\n",
       "      <th>crit2</th>\n",
       "      <th>crit3</th>\n",
       "    </tr>\n",
       "  </thead>\n",
       "  <tbody>\n",
       "    <tr>\n",
       "      <th>0</th>\n",
       "      <td>1</td>\n",
       "      <td>1</td>\n",
       "      <td>1</td>\n",
       "    </tr>\n",
       "    <tr>\n",
       "      <th>1</th>\n",
       "      <td>1</td>\n",
       "      <td>1</td>\n",
       "      <td>1</td>\n",
       "    </tr>\n",
       "    <tr>\n",
       "      <th>2</th>\n",
       "      <td>1</td>\n",
       "      <td>1</td>\n",
       "      <td>1</td>\n",
       "    </tr>\n",
       "    <tr>\n",
       "      <th>3</th>\n",
       "      <td>1</td>\n",
       "      <td>1</td>\n",
       "      <td>1</td>\n",
       "    </tr>\n",
       "    <tr>\n",
       "      <th>4</th>\n",
       "      <td>1</td>\n",
       "      <td>1</td>\n",
       "      <td>1</td>\n",
       "    </tr>\n",
       "  </tbody>\n",
       "</table>\n",
       "</div>"
      ],
      "text/plain": [
       "   crit1  crit2  crit3\n",
       "0      1      1      1\n",
       "1      1      1      1\n",
       "2      1      1      1\n",
       "3      1      1      1\n",
       "4      1      1      1"
      ]
     },
     "execution_count": 20,
     "metadata": {},
     "output_type": "execute_result"
    }
   ],
   "source": [
    "df_gtd[['crit1','crit2','crit3']].head()"
   ]
  },
  {
   "cell_type": "markdown",
   "metadata": {},
   "source": [
    "These features can be better represented if they are grouped into the following:\n",
    "    1. crit1 and crit2\n",
    "    2. crit2 and crit3\n",
    "    3. crit3 and crit1\n",
    "    4. crit1, crit2 and crit3"
   ]
  },
  {
   "cell_type": "code",
   "execution_count": 21,
   "metadata": {
    "collapsed": false
   },
   "outputs": [],
   "source": [
    "group_crit12 = lambda df: 1 if df.crit1 == 1 and df.crit2 == 1 else 0\n",
    "df_gtd['crit1andcrit2'] = df_gtd.apply(group_crit12,axis=1)"
   ]
  },
  {
   "cell_type": "code",
   "execution_count": 22,
   "metadata": {
    "collapsed": false
   },
   "outputs": [],
   "source": [
    "group_crit23 = lambda df: 1 if df.crit2 == 1 and df.crit3 == 1 else 0\n",
    "df_gtd['crit2andcrit3'] = df_gtd.apply(group_crit23,axis=1)"
   ]
  },
  {
   "cell_type": "code",
   "execution_count": 23,
   "metadata": {
    "collapsed": false
   },
   "outputs": [],
   "source": [
    "group_crit13 = lambda df: 1 if df.crit1 == 1 and df.crit3 == 1 else 0\n",
    "df_gtd['crit1andcrit3'] = df_gtd.apply(group_crit13,axis=1)"
   ]
  },
  {
   "cell_type": "code",
   "execution_count": 24,
   "metadata": {
    "collapsed": false
   },
   "outputs": [],
   "source": [
    "group_crit123 = lambda df: 1 if df.crit1 == 1 and df.crit2 == 1 and df.crit3 == 1 else 0\n",
    "df_gtd['crit1andcrit2andcrit3'] = df_gtd.apply(group_crit123,axis=1)"
   ]
  },
  {
   "cell_type": "markdown",
   "metadata": {},
   "source": [
    "Dropping the original columns - 'crit1' , 'crit2' and 'crit3'"
   ]
  },
  {
   "cell_type": "code",
   "execution_count": 25,
   "metadata": {
    "collapsed": false
   },
   "outputs": [],
   "source": [
    "df_gtd = df_gtd.drop(['crit1','crit2','crit3'],1)"
   ]
  },
  {
   "cell_type": "markdown",
   "metadata": {},
   "source": [
    "### Imputing Missing Values"
   ]
  },
  {
   "cell_type": "markdown",
   "metadata": {},
   "source": [
    "A Class DataFrameImputer is used to impute the columns of the dataframe - \n",
    "\n",
    "Columns of datatype object are replaced by the most frequent value while the missing values in the column of other datatypes are replaced by their median.\n",
    "\n",
    "Source: http://stackoverflow.com/questions/25239958/impute-categorical-missing-values-in-scikit-learn"
   ]
  },
  {
   "cell_type": "code",
   "execution_count": 26,
   "metadata": {
    "collapsed": false
   },
   "outputs": [],
   "source": [
    "import pandas as pd\n",
    "import numpy as np\n",
    "from sklearn.base import TransformerMixin\n",
    "\n",
    "class DataFrameImputer(TransformerMixin):\n",
    "    def __init__(self):\n",
    "        \"\"\"Impute missing values.\n",
    "        Columns of dtype object are imputed with the most frequent value \n",
    "        in column.\n",
    "        Columns of other types are imputed with median of column.\n",
    "        \"\"\"\n",
    "    def fit(self, X, y=None):\n",
    "\n",
    "        self.fill = pd.Series([X[c].value_counts().index[0]\n",
    "            if X[c].dtype == np.dtype('O') else X[c].median() for c in X],\n",
    "            index=X.columns)\n",
    "        return self\n",
    "    \n",
    "    def transform(self, X, y=None):\n",
    "        return X.fillna(self.fill)"
   ]
  },
  {
   "cell_type": "code",
   "execution_count": 27,
   "metadata": {
    "collapsed": false
   },
   "outputs": [],
   "source": [
    "df_gtd_imp = DataFrameImputer().fit_transform(df_gtd)"
   ]
  },
  {
   "cell_type": "code",
   "execution_count": 28,
   "metadata": {
    "collapsed": true
   },
   "outputs": [],
   "source": [
    "#Saving these to pickle\n",
    "df_gtd.to_pickle('df_gtd.pkl')\n",
    "df_gtd_imp.to_pickle('df_gtd_imp.pkl')"
   ]
  },
  {
   "cell_type": "markdown",
   "metadata": {},
   "source": [
    "The missing values in the columns are now imputed. Imputation is necessary as the scikit-learn models don't work with NaN values."
   ]
  },
  {
   "cell_type": "markdown",
   "metadata": {},
   "source": [
    "### Final Data Preparation for Learning"
   ]
  },
  {
   "cell_type": "markdown",
   "metadata": {},
   "source": [
    "The class label in the dataset is 'gname'.  The model has to be trained and predict for those instances which have their gname as 'Unknown'."
   ]
  },
  {
   "cell_type": "markdown",
   "metadata": {},
   "source": [
    "<b> Test Data"
   ]
  },
  {
   "cell_type": "code",
   "execution_count": 29,
   "metadata": {
    "collapsed": false
   },
   "outputs": [],
   "source": [
    "df_test = df_gtd_imp.query(\"gname == 'Unknown'\")"
   ]
  },
  {
   "cell_type": "code",
   "execution_count": 30,
   "metadata": {
    "collapsed": false
   },
   "outputs": [],
   "source": [
    "df_test = df_test.drop('gname',1)"
   ]
  },
  {
   "cell_type": "markdown",
   "metadata": {},
   "source": [
    "<b> Training Data"
   ]
  },
  {
   "cell_type": "code",
   "execution_count": 31,
   "metadata": {
    "collapsed": false
   },
   "outputs": [],
   "source": [
    "df_train = df_gtd_imp.query(\"gname != 'Unknown'\")\n",
    "df_train_x = pd.DataFrame(df_train)\n",
    "df_train_x = df_train_x.drop('gname',1)\n",
    "df_train_y = df_train.gname"
   ]
  },
  {
   "cell_type": "markdown",
   "metadata": {},
   "source": [
    "<b> Dimensions of the train and test data"
   ]
  },
  {
   "cell_type": "markdown",
   "metadata": {},
   "source": [
    "We notice that the train data is further split into two - one with only the features and the other with the class labels. \n",
    "\n",
    "The number of columns in test data is the same as that of train data which has features - This is expected. The number of instances in both vary. It must also be noticed that these lengths are comparable. \n",
    "\n",
    "Thus we have a training and test set of similar proportions."
   ]
  },
  {
   "cell_type": "code",
   "execution_count": 32,
   "metadata": {
    "collapsed": false
   },
   "outputs": [
    {
     "data": {
      "text/plain": [
       "(76304, 27)"
      ]
     },
     "execution_count": 32,
     "metadata": {},
     "output_type": "execute_result"
    }
   ],
   "source": [
    "df_train_x.shape"
   ]
  },
  {
   "cell_type": "code",
   "execution_count": 33,
   "metadata": {
    "collapsed": false
   },
   "outputs": [
    {
     "data": {
      "text/plain": [
       "(76304L,)"
      ]
     },
     "execution_count": 33,
     "metadata": {},
     "output_type": "execute_result"
    }
   ],
   "source": [
    "df_train_y.shape"
   ]
  },
  {
   "cell_type": "code",
   "execution_count": 34,
   "metadata": {
    "collapsed": false
   },
   "outputs": [
    {
     "data": {
      "text/plain": [
       "(65662, 27)"
      ]
     },
     "execution_count": 34,
     "metadata": {},
     "output_type": "execute_result"
    }
   ],
   "source": [
    "df_test.shape"
   ]
  },
  {
   "cell_type": "markdown",
   "metadata": {},
   "source": [
    "### Feature Selection"
   ]
  },
  {
   "cell_type": "markdown",
   "metadata": {},
   "source": [
    "The data we have is cleaned and does not have any noisy/redundant features. Ranking the features gives us an idea of how relevant each feature is."
   ]
  },
  {
   "cell_type": "markdown",
   "metadata": {},
   "source": [
    "There are many tests which can find out the relative importance of each feature. One such method is to train the data with a \n",
    "decision tree of Scikit-learn and find the feature importances."
   ]
  },
  {
   "cell_type": "markdown",
   "metadata": {},
   "source": [
    "Fitting the data with Decision Tree Classifier"
   ]
  },
  {
   "cell_type": "code",
   "execution_count": 35,
   "metadata": {
    "collapsed": false
   },
   "outputs": [],
   "source": [
    "from sklearn.tree import DecisionTreeClassifier\n",
    "clf = DecisionTreeClassifier()\n",
    "clf = clf.fit(df_train_x, df_train_y)"
   ]
  },
  {
   "cell_type": "markdown",
   "metadata": {},
   "source": [
    "<b> Feature Importance"
   ]
  },
  {
   "cell_type": "markdown",
   "metadata": {},
   "source": [
    "The relative feature importances (scaled and normalized to 1) are printed below"
   ]
  },
  {
   "cell_type": "code",
   "execution_count": 36,
   "metadata": {
    "collapsed": false
   },
   "outputs": [
    {
     "name": "stdout",
     "output_type": "stream",
     "text": [
      "('iyear', 0.18348871571000372)\n",
      "('imonth', 0.067977529192091588)\n",
      "('iday', 0.074042012094153759)\n",
      "('country', 0.30807879229332291)\n",
      "('region', 0.063312744239232374)\n",
      "('vicinity', 0.0042723613643706184)\n",
      "('doubtterr', 0.01891376390033524)\n",
      "('multiple', 0.011872068608749268)\n",
      "('success', 0.004768784334976634)\n",
      "('suicide', 0.00078752378440137051)\n",
      "('attacktype1', 0.018765862413359171)\n",
      "('targtype1', 0.024023426684241487)\n",
      "('targsubtype1', 0.055460267319541297)\n",
      "('natlty1', 0.020858792704342165)\n",
      "('nperps', 0.018400452529178987)\n",
      "('claimed', 0.0087261432864760916)\n",
      "('weaptype1', 0.011967126740969797)\n",
      "('weapsubtype1', 0.03087376258186772)\n",
      "('nkill', 0.025925697211306283)\n",
      "('nwound', 0.020654623692805442)\n",
      "('property', 0.012008366985784188)\n",
      "('ishostkid', 0.003791181462787039)\n",
      "('ransom', 0.002609976372511084)\n",
      "('crit1andcrit2', 0.0020971855539101024)\n",
      "('crit2andcrit3', 0.0020214752821982067)\n",
      "('crit1andcrit3', 0.0023442306644099677)\n",
      "('crit1andcrit2andcrit3', 0.0019571329926733683)\n"
     ]
    }
   ],
   "source": [
    "for index_feature, feature_rank in enumerate(list(clf.feature_importances_)):\n",
    "        print (df_train_x.columns[index_feature], feature_rank)"
   ]
  },
  {
   "cell_type": "markdown",
   "metadata": {},
   "source": [
    "Features which form upper 70% percentile are selected. The rest are discarded as their relevance is too low."
   ]
  },
  {
   "cell_type": "code",
   "execution_count": 37,
   "metadata": {
    "collapsed": false
   },
   "outputs": [
    {
     "name": "stdout",
     "output_type": "stream",
     "text": [
      "('iyear', 0.18348871571000372)\n",
      "('imonth', 0.067977529192091588)\n",
      "('iday', 0.074042012094153759)\n",
      "('country', 0.30807879229332291)\n",
      "('region', 0.063312744239232374)\n",
      "('targsubtype1', 0.055460267319541297)\n",
      "('weapsubtype1', 0.03087376258186772)\n",
      "('nkill', 0.025925697211306283)\n"
     ]
    }
   ],
   "source": [
    "perc_val = np.percentile(clf.feature_importances_,70)\n",
    "index_relevant_features = list()\n",
    "for index_feature, feature_rank in enumerate(list(clf.feature_importances_)):\n",
    "        if feature_rank >= perc_val:\n",
    "            print (df_train_x.columns[index_feature], feature_rank)\n",
    "            index_relevant_features.append(index_feature)"
   ]
  },
  {
   "cell_type": "markdown",
   "metadata": {},
   "source": [
    "The relevant features alone are present in the training and test data sets. \n",
    "\n",
    "We see that the number of features have been reduced to only 8. \n",
    "Thus, the features which are used to train the model are:\n",
    "\n",
    "1. Year\n",
    "2. Month                    } Date Feature - Easier to train when separated\n",
    "3. Day\n",
    "4. Country\n",
    "5. Region\n",
    "6. Specific Primary Target\n",
    "7. Specific Primary Weapon\n",
    "8. Number of people killed"
   ]
  },
  {
   "cell_type": "code",
   "execution_count": 38,
   "metadata": {
    "collapsed": false
   },
   "outputs": [],
   "source": [
    "df_train_x = pd.DataFrame(df_train_x[df_train_x.columns[index_relevant_features]])"
   ]
  },
  {
   "cell_type": "code",
   "execution_count": 39,
   "metadata": {
    "collapsed": false
   },
   "outputs": [
    {
     "data": {
      "text/plain": [
       "(76304, 8)"
      ]
     },
     "execution_count": 39,
     "metadata": {},
     "output_type": "execute_result"
    }
   ],
   "source": [
    "df_train_x.shape"
   ]
  },
  {
   "cell_type": "code",
   "execution_count": 40,
   "metadata": {
    "collapsed": false
   },
   "outputs": [
    {
     "data": {
      "text/plain": [
       "(76304L,)"
      ]
     },
     "execution_count": 40,
     "metadata": {},
     "output_type": "execute_result"
    }
   ],
   "source": [
    "df_train_y.shape"
   ]
  },
  {
   "cell_type": "code",
   "execution_count": 41,
   "metadata": {
    "collapsed": false
   },
   "outputs": [],
   "source": [
    "df_test = df_test[df_test.columns[index_relevant_features]]"
   ]
  },
  {
   "cell_type": "code",
   "execution_count": 42,
   "metadata": {
    "collapsed": false
   },
   "outputs": [
    {
     "data": {
      "text/plain": [
       "(65662, 8)"
      ]
     },
     "execution_count": 42,
     "metadata": {},
     "output_type": "execute_result"
    }
   ],
   "source": [
    "df_test.shape"
   ]
  },
  {
   "cell_type": "markdown",
   "metadata": {},
   "source": [
    "### Feature Ranking of final Model"
   ]
  },
  {
   "cell_type": "code",
   "execution_count": 43,
   "metadata": {
    "collapsed": false
   },
   "outputs": [
    {
     "data": {
      "text/plain": [
       "array([ 0.20078094,  0.09575658,  0.11413252,  0.32778058,  0.05070187,\n",
       "        0.10693487,  0.05945306,  0.04445958])"
      ]
     },
     "execution_count": 43,
     "metadata": {},
     "output_type": "execute_result"
    }
   ],
   "source": [
    "from sklearn.tree import DecisionTreeClassifier\n",
    "clf = DecisionTreeClassifier()\n",
    "clf = clf.fit(df_train_x, df_train_y)\n",
    "clf.feature_importances_"
   ]
  },
  {
   "cell_type": "code",
   "execution_count": 44,
   "metadata": {
    "collapsed": false
   },
   "outputs": [],
   "source": [
    "data_feature_rank = pd.DataFrame(clf.feature_importances_)\n",
    "data_feature_rank.columns = ['rank']"
   ]
  },
  {
   "cell_type": "code",
   "execution_count": 45,
   "metadata": {
    "collapsed": false
   },
   "outputs": [
    {
     "data": {
      "text/plain": [
       "<matplotlib.axes._subplots.AxesSubplot at 0x22936550>"
      ]
     },
     "execution_count": 45,
     "metadata": {},
     "output_type": "execute_result"
    },
    {
     "data": {
      "image/png": "[encoded data removed]",
      "text/plain": [
       "<matplotlib.figure.Figure at 0x224ba8d0>"
      ]
     },
     "metadata": {},
     "output_type": "display_data"
    }
   ],
   "source": [
    "sns.barplot(x = df_train_x.columns, y = 'rank' , data = data_feature_rank, order = df_train_x.columns)"
   ]
  },
  {
   "cell_type": "markdown",
   "metadata": {},
   "source": [
    "As you can see, the feature 'country' is ranked the highest. The rest of the features are plotted accordingly."
   ]
  },
  {
   "cell_type": "markdown",
   "metadata": {},
   "source": [
    "## Model Evaluation"
   ]
  },
  {
   "cell_type": "markdown",
   "metadata": {},
   "source": [
    "The dataset has large number of instances and the features are categorical. Using a <b> Random Forest </b> will be a good choice for the model. Other model choices include Support Vector Machines, Naive Bayes Classifiers or k-NN classifiers."
   ]
  },
  {
   "cell_type": "markdown",
   "metadata": {},
   "source": [
    "A Random Forest is an ensemble of decision trees, where each tree is constructed by subsets of the training data. \n",
    "\n",
    "There are many advantages of using a Random Forest, the primary of them being:\n",
    "1. It can handle large data sets with high dimensionality. It trains well even on high number of input features. \n",
    "2. It can handle categorical and continous variables. Other estimators in Scikit-learn need encoding of categorical\n",
    "features which is not the case in Random Forest models.\n",
    "3. It is more robust and accurate compared to Decision Trees\n",
    "4. They perform well in multi-class classification problems and can work in regression cases too."
   ]
  },
  {
   "cell_type": "markdown",
   "metadata": {},
   "source": [
    "Other classifiers can give similar performance but a Random Forest in Scikit-Learn is faster and more accurate than the other\n",
    "classifiers mentioned above. \n",
    "\n",
    "Boosted ensemble classifiers can also be tried - though will probably be more accurate, they can be slower and occupy more memory.\n",
    "\n",
    "Also rest of the classifiers need the categorical features to be encoded to avoid them being taken in order - this is not required in the case of Random Forests."
   ]
  },
  {
   "cell_type": "markdown",
   "metadata": {},
   "source": [
    "<b> Training and testing the model on the train data"
   ]
  },
  {
   "cell_type": "code",
   "execution_count": 46,
   "metadata": {
    "collapsed": false
   },
   "outputs": [
    {
     "data": {
      "text/plain": [
       "0.99677605368001676"
      ]
     },
     "execution_count": 46,
     "metadata": {},
     "output_type": "execute_result"
    }
   ],
   "source": [
    "from sklearn.tree import DecisionTreeClassifier\n",
    "clf_dtree = DecisionTreeClassifier()\n",
    "clf_dtree = clf_dtree.fit(df_train_x, df_train_y)\n",
    "clf_dtree.score(df_train_x,df_train_y)"
   ]
  },
  {
   "cell_type": "markdown",
   "metadata": {},
   "source": [
    "We notice that the accuracy of the classifier(taken as the performance metric in this case) is <b> 99.67 %. </b> \n",
    "\n",
    "This is not surprising as the model is trained and tested on the same data. Though this is just for illustratory purposes - This is a classic example of Overfitting where the trained model is tested on the same dataset. The high accuracy is a red-flag. \n",
    "\n",
    "The model will not <b> generalize </b> well on <b> unseen data </b> . The following run of model shows the model run on new data."
   ]
  },
  {
   "cell_type": "markdown",
   "metadata": {},
   "source": [
    "### Evaluate Model Accuracy"
   ]
  },
  {
   "cell_type": "markdown",
   "metadata": {},
   "source": [
    "The data is split into two - training set for training the model and validation/test set to evaluate the model accuracy in the ratio: 70% (train) and 30% (validation)."
   ]
  },
  {
   "cell_type": "code",
   "execution_count": 47,
   "metadata": {
    "collapsed": false
   },
   "outputs": [
    {
     "name": "stdout",
     "output_type": "stream",
     "text": [
      "(53412, 8) (53412L,)\n",
      "(22892, 8) (22892L,)\n"
     ]
    }
   ],
   "source": [
    "from sklearn.cross_validation import train_test_split\n",
    "X_train, X_test, y_train, y_test = train_test_split(df_train_x, df_train_y, test_size=0.3, random_state=0)\n",
    "print X_train.shape, y_train.shape\n",
    "print X_test.shape, y_test.shape"
   ]
  },
  {
   "cell_type": "markdown",
   "metadata": {
    "collapsed": true
   },
   "source": [
    "Fitting the Random Forest Classifier onto the training dataset."
   ]
  },
  {
   "cell_type": "markdown",
   "metadata": {},
   "source": [
    "The number of estimators of the Random Forest used to train the model is 10. Normally the accuracy of the classifier increases\n",
    "with increase in number of estimators, but at the cost of memory and speed."
   ]
  },
  {
   "cell_type": "code",
   "execution_count": 49,
   "metadata": {
    "collapsed": false
   },
   "outputs": [
    {
     "data": {
      "text/plain": [
       "RandomForestClassifier(bootstrap=True, class_weight=None, criterion='gini',\n",
       "            max_depth=None, max_features='auto', max_leaf_nodes=None,\n",
       "            min_samples_leaf=1, min_samples_split=2,\n",
       "            min_weight_fraction_leaf=0.0, n_estimators=10, n_jobs=1,\n",
       "            oob_score=False, random_state=None, verbose=0,\n",
       "            warm_start=False)"
      ]
     },
     "execution_count": 49,
     "metadata": {},
     "output_type": "execute_result"
    }
   ],
   "source": [
    "from sklearn.ensemble import RandomForestClassifier\n",
    "clf_rf = RandomForestClassifier(n_estimators=10)\n",
    "clf_rf.fit(X_train, y_train)"
   ]
  },
  {
   "cell_type": "markdown",
   "metadata": {
    "collapsed": true
   },
   "source": [
    "Evaluating the model accuracy on the validation set."
   ]
  },
  {
   "cell_type": "code",
   "execution_count": 50,
   "metadata": {
    "collapsed": false
   },
   "outputs": [
    {
     "data": {
      "text/plain": [
       "0.69757994059059936"
      ]
     },
     "execution_count": 50,
     "metadata": {},
     "output_type": "execute_result"
    }
   ],
   "source": [
    "from sklearn.metrics import accuracy_score\n",
    "y_pred = clf_rf.predict(X_test)\n",
    "accuracy_score(y_test, y_pred)"
   ]
  },
  {
   "cell_type": "markdown",
   "metadata": {
    "collapsed": true
   },
   "source": [
    "The accuracy of the classifier is 69.75%"
   ]
  },
  {
   "cell_type": "markdown",
   "metadata": {},
   "source": [
    "Further model evaluation methods such as k-Fold Cross Validation can be used but the split method is much faster when compared to the other methods."
   ]
  },
  {
   "cell_type": "markdown",
   "metadata": {
    "collapsed": true
   },
   "source": [
    "## Model Predicting"
   ]
  },
  {
   "cell_type": "markdown",
   "metadata": {},
   "source": [
    "The model is now run on the test dataset and the class labels are predicted."
   ]
  },
  {
   "cell_type": "code",
   "execution_count": 68,
   "metadata": {
    "collapsed": true
   },
   "outputs": [],
   "source": [
    "test_y = clf_rf.predict(df_test)"
   ]
  },
  {
   "cell_type": "code",
   "execution_count": 69,
   "metadata": {
    "collapsed": false
   },
   "outputs": [
    {
     "data": {
      "text/plain": [
       "65662"
      ]
     },
     "execution_count": 69,
     "metadata": {},
     "output_type": "execute_result"
    }
   ],
   "source": [
    "len(test_y)"
   ]
  },
  {
   "cell_type": "code",
   "execution_count": 70,
   "metadata": {
    "collapsed": true
   },
   "outputs": [],
   "source": [
    "df_test['gname'] = test_y"
   ]
  },
  {
   "cell_type": "markdown",
   "metadata": {
    "collapsed": true
   },
   "source": [
    "The predicted labels are merged with the original dataset as shown above."
   ]
  },
  {
   "cell_type": "markdown",
   "metadata": {},
   "source": [
    "Displaying the top 5 rows of the test set dataframe."
   ]
  },
  {
   "cell_type": "code",
   "execution_count": 72,
   "metadata": {
    "collapsed": false,
    "scrolled": true
   },
   "outputs": [
    {
     "data": {
      "text/html": [
       "<div>\n",
       "<table border=\"1\" class=\"dataframe\">\n",
       "  <thead>\n",
       "    <tr style=\"text-align: right;\">\n",
       "      <th></th>\n",
       "      <th>iyear</th>\n",
       "      <th>imonth</th>\n",
       "      <th>iday</th>\n",
       "      <th>country</th>\n",
       "      <th>region</th>\n",
       "      <th>targsubtype1</th>\n",
       "      <th>weapsubtype1</th>\n",
       "      <th>nkill</th>\n",
       "      <th>gname</th>\n",
       "    </tr>\n",
       "  </thead>\n",
       "  <tbody>\n",
       "    <tr>\n",
       "      <th>2</th>\n",
       "      <td>1970</td>\n",
       "      <td>1</td>\n",
       "      <td>0</td>\n",
       "      <td>160</td>\n",
       "      <td>5</td>\n",
       "      <td>54</td>\n",
       "      <td>12</td>\n",
       "      <td>1</td>\n",
       "      <td>New People's Army (NPA)</td>\n",
       "    </tr>\n",
       "    <tr>\n",
       "      <th>3</th>\n",
       "      <td>1970</td>\n",
       "      <td>1</td>\n",
       "      <td>0</td>\n",
       "      <td>78</td>\n",
       "      <td>8</td>\n",
       "      <td>46</td>\n",
       "      <td>16</td>\n",
       "      <td>0</td>\n",
       "      <td>Armenian Secret Army for the Liberation of Arm...</td>\n",
       "    </tr>\n",
       "    <tr>\n",
       "      <th>4</th>\n",
       "      <td>1970</td>\n",
       "      <td>1</td>\n",
       "      <td>0</td>\n",
       "      <td>101</td>\n",
       "      <td>4</td>\n",
       "      <td>46</td>\n",
       "      <td>12</td>\n",
       "      <td>0</td>\n",
       "      <td>Armed Proletarian Power</td>\n",
       "    </tr>\n",
       "    <tr>\n",
       "      <th>7</th>\n",
       "      <td>1970</td>\n",
       "      <td>1</td>\n",
       "      <td>2</td>\n",
       "      <td>217</td>\n",
       "      <td>1</td>\n",
       "      <td>107</td>\n",
       "      <td>16</td>\n",
       "      <td>0</td>\n",
       "      <td>New World Liberation Front (NWLF)</td>\n",
       "    </tr>\n",
       "    <tr>\n",
       "      <th>12</th>\n",
       "      <td>1970</td>\n",
       "      <td>1</td>\n",
       "      <td>8</td>\n",
       "      <td>98</td>\n",
       "      <td>8</td>\n",
       "      <td>42</td>\n",
       "      <td>4</td>\n",
       "      <td>0</td>\n",
       "      <td>Red Brigades</td>\n",
       "    </tr>\n",
       "  </tbody>\n",
       "</table>\n",
       "</div>"
      ],
      "text/plain": [
       "    iyear  imonth  iday  country  region  targsubtype1  weapsubtype1  nkill  \\\n",
       "2    1970       1     0      160       5            54            12      1   \n",
       "3    1970       1     0       78       8            46            16      0   \n",
       "4    1970       1     0      101       4            46            12      0   \n",
       "7    1970       1     2      217       1           107            16      0   \n",
       "12   1970       1     8       98       8            42             4      0   \n",
       "\n",
       "                                                gname  \n",
       "2                             New People's Army (NPA)  \n",
       "3   Armenian Secret Army for the Liberation of Arm...  \n",
       "4                             Armed Proletarian Power  \n",
       "7                   New World Liberation Front (NWLF)  \n",
       "12                                       Red Brigades  "
      ]
     },
     "execution_count": 72,
     "metadata": {},
     "output_type": "execute_result"
    }
   ],
   "source": [
    "df_test.head()"
   ]
  },
  {
   "cell_type": "markdown",
   "metadata": {},
   "source": [
    "<b> Thus a predictive model has been built to predict the terror groups for those incidents unclassified."
   ]
  },
  {
   "cell_type": "markdown",
   "metadata": {},
   "source": [
    "## Appendix"
   ]
  },
  {
   "cell_type": "markdown",
   "metadata": {},
   "source": [
    "Various features of the data are analyzed to understand more about the terror incidents. \n",
    "More detailed analysis invloving effect of each feature on the class label - Terror group can also be done in future."
   ]
  },
  {
   "cell_type": "markdown",
   "metadata": {},
   "source": [
    "### Analysis of the predicions"
   ]
  },
  {
   "cell_type": "markdown",
   "metadata": {},
   "source": [
    "A plot of the top 10 predicted class labels show that the AlQaida in Iraq, ISIL, TTP and Taliban are the groups having the highest count amongst the predicted class labels.\n",
    "\n",
    "This shows that the terrorist incidents classified as 'Unknown' have a good probability of being classified under these 4 groups.\n",
    "       \n",
    "We can also say that a large portions of the attacks by these groups have gone unattributed.\n",
    "\n",
    "<b>(Subject to accuracy of the predictions)"
   ]
  },
  {
   "cell_type": "code",
   "execution_count": 99,
   "metadata": {
    "collapsed": false
   },
   "outputs": [
    {
     "data": {
      "text/plain": [
       "<matplotlib.axes._subplots.AxesSubplot at 0x44e700b8>"
      ]
     },
     "execution_count": 99,
     "metadata": {},
     "output_type": "execute_result"
    },
    {
     "data": {
      "image/png": "[encoded data removed]",
      "text/plain": [
       "<matplotlib.figure.Figure at 0x44b50b70>"
      ]
     },
     "metadata": {},
     "output_type": "display_data"
    }
   ],
   "source": [
    "sns.barplot(y= df_test.gname.value_counts().index[:10], x = df_test.gname.value_counts()[:10] ,data=df_test)"
   ]
  },
  {
   "cell_type": "markdown",
   "metadata": {
    "collapsed": true
   },
   "source": [
    "### Analysis of the Terrorism incidents Country-wise"
   ]
  },
  {
   "cell_type": "markdown",
   "metadata": {},
   "source": [
    "The following histogram of the countrywise terror incidents show that most incidents have taken place in Iraq, Pakistand and India. "
   ]
  },
  {
   "cell_type": "code",
   "execution_count": 145,
   "metadata": {
    "collapsed": false
   },
   "outputs": [
    {
     "data": {
      "text/plain": [
       "<matplotlib.axes._subplots.AxesSubplot at 0x4701d470>"
      ]
     },
     "execution_count": 145,
     "metadata": {},
     "output_type": "execute_result"
    },
    {
     "data": {
      "image/png": "[encoded data removed]",
      "text/plain": [
       "<matplotlib.figure.Figure at 0x4701dbe0>"
      ]
     },
     "metadata": {},
     "output_type": "display_data"
    }
   ],
   "source": [
    "sns.barplot(y= df_gtd.country_txt.value_counts().index[:10], x = df_gtd.country.value_counts()[:10])"
   ]
  },
  {
   "cell_type": "markdown",
   "metadata": {},
   "source": [
    "### Analysis of the Terrorism incidents Region-wise"
   ]
  },
  {
   "cell_type": "markdown",
   "metadata": {},
   "source": [
    "The following histogram of the regionwise terror incidents show that major proportion of incidents have taken place in \n",
    "Middle East & North Africa, South Asia and South America. "
   ]
  },
  {
   "cell_type": "code",
   "execution_count": 146,
   "metadata": {
    "collapsed": false
   },
   "outputs": [
    {
     "data": {
      "text/plain": [
       "<matplotlib.axes._subplots.AxesSubplot at 0x4ab61f98>"
      ]
     },
     "execution_count": 146,
     "metadata": {},
     "output_type": "execute_result"
    },
    {
     "data": {
      "image/png": "[encoded data removed]",
      "text/plain": [
       "<matplotlib.figure.Figure at 0x4a216320>"
      ]
     },
     "metadata": {},
     "output_type": "display_data"
    }
   ],
   "source": [
    "sns.barplot(y= df_gtd.region_txt.value_counts().index[:10], x = df_gtd.region.value_counts()[:10])"
   ]
  },
  {
   "cell_type": "markdown",
   "metadata": {},
   "source": [
    "### Analysis of the Terrorism incidents Target-wise"
   ]
  },
  {
   "cell_type": "markdown",
   "metadata": {},
   "source": [
    "The following histogram show that major proportion of targets have been at the Military or the Police or at Unnamed civilians."
   ]
  },
  {
   "cell_type": "code",
   "execution_count": 166,
   "metadata": {
    "collapsed": false
   },
   "outputs": [
    {
     "data": {
      "text/plain": [
       "<matplotlib.axes._subplots.AxesSubplot at 0x53adc278>"
      ]
     },
     "execution_count": 166,
     "metadata": {},
     "output_type": "execute_result"
    },
    {
     "data": {
      "image/png": "[encoded data removed]",
      "text/plain": [
       "<matplotlib.figure.Figure at 0x5330f7f0>"
      ]
     },
     "metadata": {},
     "output_type": "display_data"
    }
   ],
   "source": [
    "sns.barplot(y= df_gtd.targsubtype1_txt.value_counts().index[:10], x = df_train.targsubtype1.value_counts().values[:10])"
   ]
  },
  {
   "cell_type": "markdown",
   "metadata": {},
   "source": [
    "### Analysis of the Terrorism incidents Weapon type-wise"
   ]
  },
  {
   "cell_type": "markdown",
   "metadata": {},
   "source": [
    "The following histogram show that major proportion of weapons used have been either Explosives, Automatic Weapons or Guns"
   ]
  },
  {
   "cell_type": "code",
   "execution_count": 167,
   "metadata": {
    "collapsed": false
   },
   "outputs": [
    {
     "data": {
      "text/plain": [
       "<matplotlib.axes._subplots.AxesSubplot at 0x50f8b438>"
      ]
     },
     "execution_count": 167,
     "metadata": {},
     "output_type": "execute_result"
    },
    {
     "data": {
      "image/png": "[encoded data removed]",
      "text/plain": [
       "<matplotlib.figure.Figure at 0x507eb438>"
      ]
     },
     "metadata": {},
     "output_type": "display_data"
    }
   ],
   "source": [
    "sns.barplot(y= df_gtd.weapsubtype1_txt.value_counts().index[:10], x = df_train.weapsubtype1.value_counts().values[:10])"
   ]
  },
  {
   "cell_type": "code",
   "execution_count": null,
   "metadata": {
    "collapsed": true
   },
   "outputs": [],
   "source": []
  }
 ],
 "metadata": {
  "kernelspec": {
   "display_name": "Python 2",
   "language": "python",
   "name": "python2"
  },
  "language_info": {
   "codemirror_mode": {
    "name": "ipython",
    "version": 2
   },
   "file_extension": ".py",
   "mimetype": "text/x-python",
   "name": "python",
   "nbconvert_exporter": "python",
   "pygments_lexer": "ipython2",
   "version": "2.7.11"
  }
 },
 "nbformat": 4,
 "nbformat_minor": 0
}
